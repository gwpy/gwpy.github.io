{
  "cells": [
    {
      "cell_type": "markdown",
      "metadata": {},
      "source": [
        "\n# Normalised spectrogram\n\n\nThis example shows a normalised `spectrogram <gwpy-spectrogram>` of\nthe strain data from LIGO-Hanford around the time of GW150914.\n\n```shell\ngwpy-plot spectrogram \\\n    --gwosc \\\n    --ifo L1 \\\n    --start 1264315518 \\\n    --duration 1024 \\\n    --norm \\\n    --cmap Spectral_r \\\n    --imin .25 \\\n    --imax 4 \\\n    --interactive\n```\n"
      ]
    },
    {
      "cell_type": "markdown",
      "metadata": {},
      "source": [
        "The same command can be executed directly in Python as:\n\n"
      ]
    },
    {
      "cell_type": "code",
      "execution_count": null,
      "metadata": {
        "collapsed": false
      },
      "outputs": [],
      "source": [
        "from gwpy.cli.gwpy_plot import main\nmain([\n    'spectrogram',\n    '--gwosc',\n    '--ifo', 'L1',\n    '--start', '1264315518',\n    '--duration', '1024',\n    '--norm',\n    '--cmap', 'Spectral_r',\n    '--imin', '.25',\n    '--imax', '4',\n    '--interactive',\n])"
      ]
    }
  ],
  "metadata": {
    "kernelspec": {
      "display_name": "Python 3",
      "language": "python",
      "name": "python3"
    },
    "language_info": {
      "codemirror_mode": {
        "name": "ipython",
        "version": 3
      },
      "file_extension": ".py",
      "mimetype": "text/x-python",
      "name": "python",
      "nbconvert_exporter": "python",
      "pygments_lexer": "ipython3",
      "version": "3.11.13"
    }
  },
  "nbformat": 4,
  "nbformat_minor": 0
}