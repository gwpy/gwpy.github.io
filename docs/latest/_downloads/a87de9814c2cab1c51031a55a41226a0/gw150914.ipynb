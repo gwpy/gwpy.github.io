{
  "cells": [
    {
      "cell_type": "markdown",
      "metadata": {},
      "source": [
        "\n.. sectionauthor:: Duncan Macleod <duncan.macleod@ligo.org>\n.. currentmodule:: gwpy.timeseries\n\n# Filtering a `TimeSeries` to detect gravitational waves\n\nThe raw 'strain' output of the LIGO detectors is recorded as a `TimeSeries`\nwith contributions from a large number of known and unknown noise sources,\nas well as possible gravitational wave signals.\n\nIn order to uncover a real signal we need to filter out noises that otherwise\nhide the signal in the data. We can do this by using the :mod:`gwpy.signal`\nmodule to design a digital filter to cut out low and high frequency noise, as\nwell as notch out fixed frequencies polluted by known artefacts.\n"
      ]
    },
    {
      "cell_type": "markdown",
      "metadata": {},
      "source": [
        "## Data access\nFirst we download the raw strain data from the GWOSC public archive:\n\n"
      ]
    },
    {
      "cell_type": "code",
      "execution_count": null,
      "metadata": {
        "collapsed": false
      },
      "outputs": [],
      "source": [
        "from gwpy.timeseries import TimeSeries\nhdata = TimeSeries.fetch_open_data(\"H1\", 1126259446, 1126259478)"
      ]
    },
    {
      "cell_type": "markdown",
      "metadata": {},
      "source": [
        "## Data conditioning\nWe can design a zero-pole-gain filter to remove the extranious noise.\n\nFirst we import the `gwpy.signal.filter_design` module and create a\n:meth:`~gwpy.signal.filter_design.bandpass` filter to remove both low and\nhigh frequency content\n\n"
      ]
    },
    {
      "cell_type": "code",
      "execution_count": null,
      "metadata": {
        "collapsed": false
      },
      "outputs": [],
      "source": [
        "from gwpy.signal import filter_design\nbp = filter_design.bandpass(50, 250, hdata.sample_rate)"
      ]
    },
    {
      "cell_type": "markdown",
      "metadata": {},
      "source": [
        "Now we want to combine the bandpass with a series of\n:meth:`~gwpy.signal.filter_design.notch` filters, so we create those\nfor the first three harmonics of the 60 Hz AC mains power:\n\n"
      ]
    },
    {
      "cell_type": "code",
      "execution_count": null,
      "metadata": {
        "collapsed": false
      },
      "outputs": [],
      "source": [
        "notch_frequencies = [\n    60,\n    120,\n    180,\n]\nnotches = [filter_design.notch(f, hdata.sample_rate) for f in notch_frequencies]"
      ]
    },
    {
      "cell_type": "markdown",
      "metadata": {},
      "source": [
        "and concatenate each of our filters together to create a single ZPK:\n\n"
      ]
    },
    {
      "cell_type": "code",
      "execution_count": null,
      "metadata": {
        "collapsed": false
      },
      "outputs": [],
      "source": [
        "zpk = filter_design.concatenate_zpks(bp, *notches)"
      ]
    },
    {
      "cell_type": "markdown",
      "metadata": {},
      "source": [
        "Now, we can apply our combined filter to the data, using `filtfilt=True`\nto filter both backwards and forwards to preserve the correct phase\nat all frequencies\n\n"
      ]
    },
    {
      "cell_type": "code",
      "execution_count": null,
      "metadata": {
        "collapsed": false
      },
      "outputs": [],
      "source": [
        "hfilt = hdata.filter(zpk, filtfilt=True)"
      ]
    },
    {
      "cell_type": "markdown",
      "metadata": {},
      "source": [
        "<div class=\"alert alert-info\"><h4>Note</h4><p>The :mod:`~gwpy.signal.filter_design` methods return digital filters\n   by default, so we apply them using `TimeSeries.filter`. If we had\n   analogue filters (perhaps by passing `analog=True` to the filter design\n   method), the easiest application would be `TimeSeries.zpk`</p></div>\n\nThe :mod:`~gwpy.signal.filter_design` methods return infinite impulse\nresponse filters by default, which, when applied, corrupt a small amount of\ndata at the beginning and the end of our original `TimeSeries`.\nWe can discard those data using the :meth:`~TimeSeries.crop` method\n(for consistency we apply this to both data series):\n\n"
      ]
    },
    {
      "cell_type": "code",
      "execution_count": null,
      "metadata": {
        "collapsed": false
      },
      "outputs": [],
      "source": [
        "hdata = hdata.crop(*hdata.span.contract(1))\nhfilt = hfilt.crop(*hfilt.span.contract(1))"
      ]
    },
    {
      "cell_type": "markdown",
      "metadata": {},
      "source": [
        "## Visualisation\nFinally, we can :meth:`~TimeSeries.plot` the original and filtered data,\nadding some code to prettify the figure:\n\n"
      ]
    },
    {
      "cell_type": "code",
      "execution_count": null,
      "metadata": {
        "collapsed": false
      },
      "outputs": [],
      "source": [
        "from gwpy.plot import Plot\nplot = Plot(\n    hdata,\n    hfilt,\n    figsize=[12, 6],\n    separate=True,\n    sharex=True,\n    color=\"gwpy:ligo-hanford\",\n)\nax1, ax2 = plot.axes\nax1.set_title(\"LIGO-Hanford strain data around GW150914\")\nax1.text(\n    1.0,\n    1.01,\n    \"Unfiltered data\",\n    transform=ax1.transAxes,\n    ha=\"right\",\n)\nax1.set_ylabel(\"Amplitude [strain]\", y=-0.2)\nax2.set_ylabel(\"\")\nax2.text(\n    1.0,\n    1.01,\n    r\"50-250\\,Hz bandpass, notches at 60, 120, 180 Hz\",\n    transform=ax2.transAxes,\n    ha=\"right\",\n)\nplot.show()"
      ]
    },
    {
      "cell_type": "markdown",
      "metadata": {},
      "source": [
        "We see now a spike around 16 seconds into the data, so let's zoom into\nthat time (and prettify):\n\n"
      ]
    },
    {
      "cell_type": "code",
      "execution_count": null,
      "metadata": {
        "collapsed": false
      },
      "outputs": [],
      "source": [
        "plot = hfilt.plot(color=\"gwpy:ligo-hanford\")\nax = plot.gca()\nax.set_title(\"LIGO-Hanford strain data around GW150914\")\nax.set_ylabel(\"Amplitude [strain]\")\nax.set_xlim(1126259462, 1126259462.6)\nax.set_xscale(\"seconds\", epoch=1126259462)\nplot.show()"
      ]
    },
    {
      "cell_type": "markdown",
      "metadata": {},
      "source": [
        "Congratulations, you have succesfully filtered LIGO data to uncover the\nfirst ever directly-detected gravitational wave signal, GW150914!\n\n## Adding the second LIGO detector\nBut wait, what about LIGO-Livingston?\nWe can easily add that to our figure by following the same procedure.\n\nFirst, we load the new data\n\n"
      ]
    },
    {
      "cell_type": "code",
      "execution_count": null,
      "metadata": {
        "collapsed": false
      },
      "outputs": [],
      "source": [
        "ldata = TimeSeries.fetch_open_data(\"L1\", 1126259446, 1126259478)\nlfilt = ldata.filter(zpk, filtfilt=True)"
      ]
    },
    {
      "cell_type": "markdown",
      "metadata": {},
      "source": [
        "The article announcing the detector told us that the signals were\nseparated by 6.9 ms between detectors, and that the relative orientation\nof those detectors means that we need to invert the data from one\nbefore comparing them, so we apply those corrections:\n\n"
      ]
    },
    {
      "cell_type": "code",
      "execution_count": null,
      "metadata": {
        "collapsed": false
      },
      "outputs": [],
      "source": [
        "lfilt.shift(\"6.9ms\")\nlfilt *= -1"
      ]
    },
    {
      "cell_type": "markdown",
      "metadata": {},
      "source": [
        "and finally make a new plot with both detectors:\n\n"
      ]
    },
    {
      "cell_type": "code",
      "execution_count": null,
      "metadata": {
        "collapsed": false
      },
      "outputs": [],
      "source": [
        "plot = Plot(figsize=[12, 4])\nax = plot.gca()\nax.plot(hfilt, label=\"LIGO-Hanford\", color=\"gwpy:ligo-hanford\")\nax.plot(lfilt, label=\"LIGO-Livingston\", color=\"gwpy:ligo-livingston\")\nax.set_title(\"LIGO strain data around GW150914\")\nax.set_xlim(1126259462, 1126259462.6)\nax.set_xscale(\"seconds\", epoch=1126259462)\nax.set_ylabel(\"Amplitude [strain]\")\nax.set_ylim(-1e-21, 1e-21)\nax.legend()\nplot.show()"
      ]
    },
    {
      "cell_type": "markdown",
      "metadata": {},
      "source": [
        "The above filtering is (almost) the same as what was applied to LIGO data\nto produce Figure 1 in\n[Abbott et al. (2016)](https://doi.org/10.1103/PhysRevLett.116.061102)\n(the joint LSC-Virgo publication announcing this detection).\n\n"
      ]
    }
  ],
  "metadata": {
    "kernelspec": {
      "display_name": "Python 3",
      "language": "python",
      "name": "python3"
    },
    "language_info": {
      "codemirror_mode": {
        "name": "ipython",
        "version": 3
      },
      "file_extension": ".py",
      "mimetype": "text/x-python",
      "name": "python",
      "nbconvert_exporter": "python",
      "pygments_lexer": "ipython3",
      "version": "3.11.12"
    }
  },
  "nbformat": 4,
  "nbformat_minor": 0
}