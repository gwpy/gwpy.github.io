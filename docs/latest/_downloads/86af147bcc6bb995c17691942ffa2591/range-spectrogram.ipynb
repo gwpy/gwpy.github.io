{
  "cells": [
    {
      "cell_type": "markdown",
      "metadata": {},
      "source": [
        "\n.. sectionauthor:: Alex Urban <alexander.urban@ligo.org>\n\n# Estimating the spectral contribution to inspiral range\n\n`sphx_glr_examples_miscellaneous_range-timeseries.py` shows\nhow the binary neutron star (BNS) inspiral range of a gravitational-wave\ndetector can be measured directly from the strain readout.\n\nIn this example, we estimate the average spectral\ncontribution to BNS range from the strain record surrounding GW170817\nusing :func:`gwpy.astro.range_spectrogram`.\n"
      ]
    },
    {
      "cell_type": "markdown",
      "metadata": {},
      "source": [
        "## Data access\nFirst, we need to load some data.\nFor this we can `fetch` the [public data](https://gwosc.org/catalog/)_\naround the |GW170817|_ BNS merger:\n\n"
      ]
    },
    {
      "cell_type": "code",
      "execution_count": null,
      "metadata": {
        "collapsed": false
      },
      "outputs": [],
      "source": [
        "from gwpy.timeseries import TimeSeries\nl1 = TimeSeries.fetch_open_data(\"L1\", 1187006834, 1187010930)"
      ]
    },
    {
      "cell_type": "markdown",
      "metadata": {},
      "source": [
        "## Generate a range `Spectrogram`\nThen, we can calculate a `Spectrogram` of the inspiral range\namplitude spectrum:\n\n"
      ]
    },
    {
      "cell_type": "code",
      "execution_count": null,
      "metadata": {
        "collapsed": false
      },
      "outputs": [],
      "source": [
        "from gwpy.astro import range_spectrogram\nl1spec = range_spectrogram(l1, 30, fftlength=4, fmin=15, fmax=500) ** (1./2)"
      ]
    },
    {
      "cell_type": "markdown",
      "metadata": {},
      "source": [
        "## Visualisation\nWe can plot this `Spectrogram` to visualise spectral variation in\nLIGO-Livingston's sensitivity in the hour or so surrounding GW170817:\n\n"
      ]
    },
    {
      "cell_type": "code",
      "execution_count": null,
      "metadata": {
        "collapsed": false
      },
      "outputs": [],
      "source": [
        "plot = l1spec.plot(figsize=(12, 5))\nax = plot.gca()\nax.set_yscale(\"log\")\nax.set_ylim(15, 500)\nax.set_title(\"LIGO-Livingston sensitivity to BNS around GW170817\")\nax.set_epoch(1187008882)  # <- set 0 on plot to GW170817\nax.colorbar(\n    cmap=\"cividis\",\n    clim=(0, 16),\n    label=r\"BNS range amplitude spectral density [Mpc/$\\sqrt{\\mathrm{Hz}}$]\",\n)\nplot.show()"
      ]
    },
    {
      "cell_type": "markdown",
      "metadata": {},
      "source": [
        "Note, the extreme dip in sensitivity near GW170817 is caused by a\nloud, transient noise event, see [Phys. Rev. Lett. vol. 119, p.\n161101](http://doi.org/10.1103/PhysRevLett.119.161101) for more\ninformation.\n\n"
      ]
    }
  ],
  "metadata": {
    "kernelspec": {
      "display_name": "Python 3",
      "language": "python",
      "name": "python3"
    },
    "language_info": {
      "codemirror_mode": {
        "name": "ipython",
        "version": 3
      },
      "file_extension": ".py",
      "mimetype": "text/x-python",
      "name": "python",
      "nbconvert_exporter": "python",
      "pygments_lexer": "ipython3",
      "version": "3.11.12"
    }
  },
  "nbformat": 4,
  "nbformat_minor": 0
}