{
  "cells": [
    {
      "cell_type": "markdown",
      "metadata": {},
      "source": [
        "\n.. sectionauthor:: Duncan Macleod <duncan.macleod@ligo.org>\n.. currentmodule:: gwpy.timeseries\n\n# Generate the Q-transform of a `TimeSeries`\n\nOne of the most useful tools for filtering and visualising short-duration\nfeatures in a `TimeSeries` is the\n[Q-transform](https://en.wikipedia.org/wiki/Constant-Q_transform).\nThis is regularly used by the Detector Characterization working groups of\nthe LIGO Scientific Collaboration and the Virgo Collaboration to produce\nhigh-resolution time-frequency maps of transient noise (glitches) and\npotential gravitational-wave signals.\n\nThis algorithm was used to visualise the first ever gravitational-wave\ndetection GW150914, so we can reproduce [that result (bottom panel of figure 1)](https://doi.org/10.1103/PhysRevLett.116.061102) here.\n"
      ]
    },
    {
      "cell_type": "markdown",
      "metadata": {},
      "source": [
        "First, we need to download the `TimeSeries` record for the H1 strain\nmeasurement from |GWOSC|_:\n\n"
      ]
    },
    {
      "cell_type": "code",
      "execution_count": null,
      "metadata": {
        "collapsed": false
      },
      "outputs": [],
      "source": [
        "from gwpy.timeseries import TimeSeries\ndata = TimeSeries.fetch_open_data(\"H1\", 1126259446, 1126259478)"
      ]
    },
    {
      "cell_type": "markdown",
      "metadata": {},
      "source": [
        "Next, we generate the `~TimeSeries.q_transform` of these data:\n\n"
      ]
    },
    {
      "cell_type": "code",
      "execution_count": null,
      "metadata": {
        "collapsed": false
      },
      "outputs": [],
      "source": [
        "qspecgram = data.q_transform(outseg=(1126259462.2, 1126259462.5))"
      ]
    },
    {
      "cell_type": "markdown",
      "metadata": {},
      "source": [
        "<div class=\"alert alert-info\"><h4>Note</h4><p>We can save memory by focusing on a specific window around the\n   interesting time. The ``outseg`` keyword argument returns a `Spectrogram`\n   that is only as long as we need it to be.</p></div>\n\nNow, we can plot the resulting `~gwpy.spectrogram.Spectrogram`:\n\n"
      ]
    },
    {
      "cell_type": "code",
      "execution_count": null,
      "metadata": {
        "collapsed": false
      },
      "outputs": [],
      "source": [
        "plot = qspecgram.plot(figsize=[8, 4])\nax = plot.gca()\nax.set_xscale(\"seconds\")\nax.set_yscale(\"log\")\nax.set_ylim(20, 500)\nax.set_ylabel(\"Frequency [Hz]\")\nax.grid(True, axis=\"y\", which=\"both\")\nax.colorbar(cmap=\"viridis\", label=\"Normalized energy\")\nplot.show()"
      ]
    },
    {
      "cell_type": "markdown",
      "metadata": {},
      "source": [
        "Here we can clearly see the trace of a compact binary coalescence,\nspecifically a binary black hole merger!\nFor more details on this historic result, please see |GW150914|_.\n\n"
      ]
    }
  ],
  "metadata": {
    "kernelspec": {
      "display_name": "Python 3",
      "language": "python",
      "name": "python3"
    },
    "language_info": {
      "codemirror_mode": {
        "name": "ipython",
        "version": 3
      },
      "file_extension": ".py",
      "mimetype": "text/x-python",
      "name": "python",
      "nbconvert_exporter": "python",
      "pygments_lexer": "ipython3",
      "version": "3.11.12"
    }
  },
  "nbformat": 4,
  "nbformat_minor": 0
}