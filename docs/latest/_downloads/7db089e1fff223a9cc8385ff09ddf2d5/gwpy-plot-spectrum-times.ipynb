{
  "cells": [
    {
      "cell_type": "markdown",
      "metadata": {},
      "source": [
        "\n# Spectrum at two times\n\n\nThis example plots the spectrum (power spectral density) of strain data\nfrom both LIGO-Hanford and LIGO-Livingston for two different GPS times\n(around GW150914 and GW170817).\n\n```shell\ngwpy-plot spectrum \\\n    --gwosc \\\n    --ifo H1 L1 \\\n    --start 1126259446 \\\n    --start 1187008866 \\\n    --duration 32 \\\n    --interactive\n```\n"
      ]
    },
    {
      "cell_type": "markdown",
      "metadata": {},
      "source": [
        "The same command can be executed directly in Python as:\n\n"
      ]
    },
    {
      "cell_type": "code",
      "execution_count": null,
      "metadata": {
        "collapsed": false
      },
      "outputs": [],
      "source": [
        "from gwpy.cli.gwpy_plot import main\nmain([\n    'spectrum',\n    '--gwosc',\n    '--ifo', 'H1', 'L1',\n    '--start', '1126259446',\n    '--start', '1187008866',\n    '--duration', '32',\n    '--interactive',\n])"
      ]
    }
  ],
  "metadata": {
    "kernelspec": {
      "display_name": "Python 3",
      "language": "python",
      "name": "python3"
    },
    "language_info": {
      "codemirror_mode": {
        "name": "ipython",
        "version": 3
      },
      "file_extension": ".py",
      "mimetype": "text/x-python",
      "name": "python",
      "nbconvert_exporter": "python",
      "pygments_lexer": "ipython3",
      "version": "3.11.13"
    }
  },
  "nbformat": 4,
  "nbformat_minor": 0
}