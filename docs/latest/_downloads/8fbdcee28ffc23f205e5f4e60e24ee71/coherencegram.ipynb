{
  "cells": [
    {
      "cell_type": "markdown",
      "metadata": {},
      "source": [
        "\n.. sectionauthor:: Duncan Macleod <duncan.macleod@ligo.org>\n.. currentmodule:: gwpy.timeseries\n\n# Calculating the time-dependent coherence between two channels\n\nThe standard coherence calculation outputs a frequency series\n(`~gwpy.frequencyseries.FrequencySeries`) giving a time-averaged measure\nof coherence. See `sphx_glr_examples_frequencyseries_coherence.py` for an\nexample.\n\nThe `TimeSeries` method :meth:`~TimeSeries.coherence_spectrogram` performs the\nsame coherence calculation every ``stride``, giving a time-varying coherence\nmeasure.\n\nThese data are available as part of the |GWOSC_AUX_RELEASE|_.\n"
      ]
    },
    {
      "cell_type": "markdown",
      "metadata": {},
      "source": [
        "First, we import the `TimeSeriesDict`\n\n"
      ]
    },
    {
      "cell_type": "code",
      "execution_count": null,
      "metadata": {
        "collapsed": false
      },
      "outputs": [],
      "source": [
        "from gwpy.timeseries import TimeSeriesDict"
      ]
    },
    {
      "cell_type": "markdown",
      "metadata": {},
      "source": [
        "and then :meth:`~TimeSeriesDict.get` the data for the differential-arm\nlength servo control loop error signal (``H1:LSC-DARM_IN1_DQ``) and the\nPSL periscope accelerometer (``H1:PEM-CS_ACC_PSL_PERISCOPE_X_DQ``):\n\n"
      ]
    },
    {
      "cell_type": "code",
      "execution_count": null,
      "metadata": {
        "collapsed": false
      },
      "outputs": [],
      "source": [
        "data = TimeSeriesDict.get(\n    [\"H1:LSC-DARM_IN1_DQ\", \"H1:PEM-CS_ACC_PSL_PERISCOPE_X_DQ\"],\n    1186741560,\n    1186742160,\n    host=\"nds.gwosc.org\",\n)\ndarm = data[\"H1:LSC-DARM_IN1_DQ\"]\nacc = data[\"H1:PEM-CS_ACC_PSL_PERISCOPE_X_DQ\"]"
      ]
    },
    {
      "cell_type": "markdown",
      "metadata": {},
      "source": [
        "We can then calculate the :meth:`~TimeSeries.coherence` of one\n`TimeSeries` with respect to the other, using an 2-second Fourier\ntransform length, with a 1-second (50%) overlap:\n\n"
      ]
    },
    {
      "cell_type": "code",
      "execution_count": null,
      "metadata": {
        "collapsed": false
      },
      "outputs": [],
      "source": [
        "coh = darm.coherence_spectrogram(acc, 10, fftlength=.5, overlap=.25)"
      ]
    },
    {
      "cell_type": "markdown",
      "metadata": {},
      "source": [
        "Finally, we can :meth:`~gwpy.spectrogram.Spectrogram.plot` the\nresulting data\n\n"
      ]
    },
    {
      "cell_type": "code",
      "execution_count": null,
      "metadata": {
        "collapsed": false
      },
      "outputs": [],
      "source": [
        "plot = coh.plot()\nax = plot.gca()\nax.set_ylabel(\"Frequency [Hz]\")\nax.set_yscale(\"log\")\nax.set_ylim(10, 2000)\nax.set_title(\n    \"Coherence between PSL periscope motion and LIGO-Hanford strain data\",\n)\nax.grid(visible=True, which=\"both\", axis=\"both\")\nax.colorbar(label=\"Coherence\", clim=[0, 1], cmap=\"plasma\")\nplot.show()"
      ]
    }
  ],
  "metadata": {
    "kernelspec": {
      "display_name": "Python 3",
      "language": "python",
      "name": "python3"
    },
    "language_info": {
      "codemirror_mode": {
        "name": "ipython",
        "version": 3
      },
      "file_extension": ".py",
      "mimetype": "text/x-python",
      "name": "python",
      "nbconvert_exporter": "python",
      "pygments_lexer": "ipython3",
      "version": "3.11.13"
    }
  },
  "nbformat": 4,
  "nbformat_minor": 0
}