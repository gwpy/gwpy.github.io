{
  "cells": [
    {
      "cell_type": "markdown",
      "metadata": {},
      "source": [
        "\n# Time-series of input laser power\n\n\nThis example shows the input laser power (W) for each LIGO Detector\nfor three hours around GW170817 (data taken from the |GWOSC_AUX_RELEASE|_).\n\n```shell\ngwpy-plot timeseries \\\n    --chan H1:IMC-PWR_IN_OUT_DQ \\\n    --chan L1:IMC-PWR_IN_OUT_DQ \\\n    --start 1186736512 \\\n    --duration 3hour \\\n    --ylabel 'Interferometer input power (W)' \\\n    --suptitle 'LIGO input laser power' \\\n    --interactive\n```\n"
      ]
    },
    {
      "cell_type": "markdown",
      "metadata": {},
      "source": [
        "The same command can be executed directly in Python as:\n\n"
      ]
    },
    {
      "cell_type": "code",
      "execution_count": null,
      "metadata": {
        "collapsed": false
      },
      "outputs": [],
      "source": [
        "from gwpy.cli.gwpy_plot import main\nmain([\n    'timeseries',\n    '--chan', 'H1:IMC-PWR_IN_OUT_DQ',\n    '--chan', 'L1:IMC-PWR_IN_OUT_DQ',\n    '--start', '1186736512',\n    '--duration', '3hour',\n    '--ylabel', 'Interferometer input power (W)',\n    '--suptitle', 'LIGO input laser power',\n    '--interactive',\n])"
      ]
    }
  ],
  "metadata": {
    "kernelspec": {
      "display_name": "Python 3",
      "language": "python",
      "name": "python3"
    },
    "language_info": {
      "codemirror_mode": {
        "name": "ipython",
        "version": 3
      },
      "file_extension": ".py",
      "mimetype": "text/x-python",
      "name": "python",
      "nbconvert_exporter": "python",
      "pygments_lexer": "ipython3",
      "version": "3.11.12"
    }
  },
  "nbformat": 4,
  "nbformat_minor": 0
}