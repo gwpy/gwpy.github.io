{
  "cells": [
    {
      "cell_type": "markdown",
      "metadata": {},
      "source": [
        "\n# Simple coherence\n\n\nThis example shows the estimated coherence between the differential-arm\nlength servo control loop error signal for LIGO-Hanford\n(``H1:LSC-DARM_IN1_DQ``) and the motion of an optical periscope used to\ndirect the main laser beam into the Hanford interferometer, around the\ntime of |GW170814|.\n\n```shell\ngwpy-plot coherence \\\n    --chan H1:LSC-DARM_IN1_DQ H1:PEM-CS_ACC_PSL_PERISCOPE_X_DQ \\\n    --start 1186741560 \\\n    --duration 600 \\\n    --nds2-server nds.gwosc.org \\\n    --interactive\n```\n"
      ]
    },
    {
      "cell_type": "markdown",
      "metadata": {},
      "source": [
        "The same command can be executed directly in Python as:\n\n"
      ]
    },
    {
      "cell_type": "code",
      "execution_count": null,
      "metadata": {
        "collapsed": false
      },
      "outputs": [],
      "source": [
        "from gwpy.cli.gwpy_plot import main\nmain([\n    'coherence',\n    '--chan', 'H1:LSC-DARM_IN1_DQ', 'H1:PEM-CS_ACC_PSL_PERISCOPE_X_DQ',\n    '--start', '1186741560',\n    '--duration', '600',\n    '--nds2-server', 'nds.gwosc.org',\n    '--interactive',\n])"
      ]
    }
  ],
  "metadata": {
    "kernelspec": {
      "display_name": "Python 3",
      "language": "python",
      "name": "python3"
    },
    "language_info": {
      "codemirror_mode": {
        "name": "ipython",
        "version": 3
      },
      "file_extension": ".py",
      "mimetype": "text/x-python",
      "name": "python",
      "nbconvert_exporter": "python",
      "pygments_lexer": "ipython3",
      "version": "3.11.12"
    }
  },
  "nbformat": 4,
  "nbformat_minor": 0
}