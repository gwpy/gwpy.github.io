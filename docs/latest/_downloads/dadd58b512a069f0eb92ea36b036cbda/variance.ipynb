{
  "cells": [
    {
      "cell_type": "markdown",
      "metadata": {},
      "source": [
        "\n.. sectionauthor:: Duncan Macleod <duncan.macleod@ligo.org>\n.. currentmodule:: gwpy.timeseries\n\n# Generating a `SpectralVariance` histogram\n\nThe most common visualisation of the spectral content of a data series is\nvia the power or amplitude spectral density calculations (PSD or ASD).\nHowever, these typically involve averaging of the data over a period, which\ncan wash out transient noise (as is often desired).\n\nThe `SpectralVariance` histogram provide by `gwpy.frequencyseries` allows\nus to look at the spectral sensitivity in a different manner, displaying\nwhich frequencies sit at which amplitude *most* of the time, but also\nhighlighting excursions from normal behaviour.\n"
      ]
    },
    {
      "cell_type": "markdown",
      "metadata": {},
      "source": [
        "To demonstate this, we can load some data from the LIGO Livingston\ninterferometer around the time of the GW151226 gravitational wave detection:\n\n"
      ]
    },
    {
      "cell_type": "code",
      "execution_count": null,
      "metadata": {
        "collapsed": false
      },
      "outputs": [],
      "source": [
        "from gwpy.timeseries import TimeSeries\nllo = TimeSeries.fetch_open_data(\"L1\", 1135136228, 1135140324)"
      ]
    },
    {
      "cell_type": "markdown",
      "metadata": {},
      "source": [
        "We can then call the :meth:`~gwpy.timeseries.TimeSeries.spectral_variance`\nmethod of the ``llo`` `~gwpy.timeseries.TimeSeries` by calculating an ASD\nevery 5 seconds and counting the amount of time each frequency bin spends\nat each ASD value:\n\n"
      ]
    },
    {
      "cell_type": "code",
      "execution_count": null,
      "metadata": {
        "collapsed": false
      },
      "outputs": [],
      "source": [
        "variance = llo.spectral_variance(\n    5,\n    fftlength=2,\n    overlap=1,\n    log=True,\n    low=1e-24,\n    high=1e-19,\n    nbins=100,\n)"
      ]
    },
    {
      "cell_type": "markdown",
      "metadata": {},
      "source": [
        "We can then :meth:`~SpectralVariance.plot` the `SpectralVariance`\n\n"
      ]
    },
    {
      "cell_type": "code",
      "execution_count": null,
      "metadata": {
        "collapsed": false
      },
      "outputs": [],
      "source": [
        "plot = variance.plot(yscale=\"log\", norm=\"log\", vmin=.5, cmap=\"plasma\")\nax = plot.gca()\nax.grid()\nax.set_xlim(20, 1500)\nax.set_ylim(1e-24, 1e-20)\nax.set_xlabel(\"Frequency [Hz]\")\nax.set_ylabel(r\"[strain/$\\sqrt{\\mathrm{Hz}}$]\")\nax.set_title(\"LIGO-Livingston sensitivity variance\")\nplot.show()"
      ]
    },
    {
      "cell_type": "markdown",
      "metadata": {},
      "source": [
        "From this we see that in general the sensitivity varies a few parts in\n10:sup:`-23`, while many of the lines (narrow-band peaks in the spectrum)\nare much more stationary.\n\n"
      ]
    }
  ],
  "metadata": {
    "kernelspec": {
      "display_name": "Python 3",
      "language": "python",
      "name": "python3"
    },
    "language_info": {
      "codemirror_mode": {
        "name": "ipython",
        "version": 3
      },
      "file_extension": ".py",
      "mimetype": "text/x-python",
      "name": "python",
      "nbconvert_exporter": "python",
      "pygments_lexer": "ipython3",
      "version": "3.11.12"
    }
  },
  "nbformat": 4,
  "nbformat_minor": 0
}