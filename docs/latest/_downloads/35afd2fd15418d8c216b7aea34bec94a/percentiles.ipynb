{
  "cells": [
    {
      "cell_type": "markdown",
      "metadata": {},
      "source": [
        "\n.. sectionauthor:: Duncan Macleod <duncan.macleod@ligo.org>\n.. currentmodule:: gwpy.timeseries\n\n# Plotting an averaged ASD with percentiles.\n\nAs we have seen in `sphinx_glr_examples_frequency_hoff`, the Amplitude\nSpectral Density (ASD) is a key indicator of frequency-domain sensitivity for\na gravitational-wave detector.\n\nHowever, the ASD doesn't allow you to see how much the sensitivity varies\nover time.\nOne tool for that is the `spectrogram <gwpy-spectrogram>`, while another\nis simply to show percentiles of a number of ASD measurements.\n\nIn this example we calculate the median ASD over 2048-seconds surrounding\nthe GW178017 event, and also the 5th and 95th percentiles of the ASD, and\nplot them on a single figure.\n"
      ]
    },
    {
      "cell_type": "markdown",
      "metadata": {},
      "source": [
        "## Data access\nFirst, as always, we get the data using :meth:`TimeSeries.fetch_open_data`:\n\n"
      ]
    },
    {
      "cell_type": "code",
      "execution_count": null,
      "metadata": {
        "collapsed": false
      },
      "outputs": [],
      "source": [
        "from gwpy.timeseries import TimeSeries\nhoft = TimeSeries.fetch_open_data(\"H1\", 1187007040, 1187009088)"
      ]
    },
    {
      "cell_type": "markdown",
      "metadata": {},
      "source": [
        "## Calculate spectrogram\nNext we calculate a :class:`~gwpy.spectrogram.Spectrogram` by calculating\na number of ASDs, using the :meth:`~gwpy.timeseries.TimeSeries.spectrogram2`\nmethod:\n\n"
      ]
    },
    {
      "cell_type": "code",
      "execution_count": null,
      "metadata": {
        "collapsed": false
      },
      "outputs": [],
      "source": [
        "sg = hoft.spectrogram2(fftlength=4, overlap=2, window=\"hann\") ** (1 / 2.)"
      ]
    },
    {
      "cell_type": "markdown",
      "metadata": {},
      "source": [
        "From this we can trivially extract the median, 5th and 95th percentiles:\n\n"
      ]
    },
    {
      "cell_type": "code",
      "execution_count": null,
      "metadata": {
        "collapsed": false
      },
      "outputs": [],
      "source": [
        "median = sg.percentile(50)\nlow = sg.percentile(5)\nhigh = sg.percentile(95)"
      ]
    },
    {
      "cell_type": "markdown",
      "metadata": {},
      "source": [
        "## Visualisation\nFinally, we can make plot, using :meth:`~gwpy.plot.Axes.plot_mmm` to\ndisplay the 5th and 95th percentiles as a shaded region around the median:\n\n"
      ]
    },
    {
      "cell_type": "code",
      "execution_count": null,
      "metadata": {
        "collapsed": false
      },
      "outputs": [],
      "source": [
        "from gwpy.plot import Plot\nplot = Plot()\nax = plot.add_subplot(\n    xscale=\"log\",\n    xlim=(10, 1500),\n    xlabel=\"Frequency [Hz]\",\n    yscale=\"log\",\n    ylim=(3e-24, 2e-20),\n    ylabel=r\"Strain noise [1/$\\sqrt{\\mathrm{Hz}}$]\",\n)\nax.plot_mmm(median, low, high, color=\"gwpy:ligo-hanford\")\nax.set_title(\"LIGO-Hanford strain noise variation around GW170817\")\nplot.show()"
      ]
    },
    {
      "cell_type": "markdown",
      "metadata": {},
      "source": [
        "Now we can see that the ASD varies by factors of a few across most of the\nfrequency band, with notable exceptions, e.g. around the 60-Hz power line\nharmonics (60 Hz, 120 Hz, 180 Hz, ...) where the noise is very stable.\n\n"
      ]
    }
  ],
  "metadata": {
    "kernelspec": {
      "display_name": "Python 3",
      "language": "python",
      "name": "python3"
    },
    "language_info": {
      "codemirror_mode": {
        "name": "ipython",
        "version": 3
      },
      "file_extension": ".py",
      "mimetype": "text/x-python",
      "name": "python",
      "nbconvert_exporter": "python",
      "pygments_lexer": "ipython3",
      "version": "3.11.13"
    }
  },
  "nbformat": 4,
  "nbformat_minor": 0
}