{
  "cells": [
    {
      "cell_type": "markdown",
      "metadata": {},
      "source": [
        "\n# Simple spectrogram\n\n\nThis example shows a `spectrogram <gwpy-spectrogram>` of the strain\ndata from LIGO-Hanford around the time of GW150914.\n\n```shell\ngwpy-plot spectrogram \\\n    --gwosc \\\n    --ifo H1 \\\n    --start 1264316116 \\\n    --duration 32 \\\n    --epoch 1264316116.4 \\\n    --ymax 1600 \\\n    --interactive\n```\n"
      ]
    },
    {
      "cell_type": "markdown",
      "metadata": {},
      "source": [
        "The same command can be executed directly in Python as:\n\n"
      ]
    },
    {
      "cell_type": "code",
      "execution_count": null,
      "metadata": {
        "collapsed": false
      },
      "outputs": [],
      "source": [
        "from gwpy.cli.gwpy_plot import main\nmain([\n    'spectrogram',\n    '--gwosc',\n    '--ifo', 'H1',\n    '--start', '1264316116',\n    '--duration', '32',\n    '--epoch', '1264316116.4',\n    '--ymax', '1600',\n    '--interactive',\n])"
      ]
    }
  ],
  "metadata": {
    "kernelspec": {
      "display_name": "Python 3",
      "language": "python",
      "name": "python3"
    },
    "language_info": {
      "codemirror_mode": {
        "name": "ipython",
        "version": 3
      },
      "file_extension": ".py",
      "mimetype": "text/x-python",
      "name": "python",
      "nbconvert_exporter": "python",
      "pygments_lexer": "ipython3",
      "version": "3.11.12"
    }
  },
  "nbformat": 4,
  "nbformat_minor": 0
}