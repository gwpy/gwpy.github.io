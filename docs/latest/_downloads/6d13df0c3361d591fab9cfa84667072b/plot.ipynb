{
  "cells": [
    {
      "cell_type": "markdown",
      "metadata": {},
      "source": [
        "\n.. sectionauthor:: Duncan Macleod <duncan.macleod@ligo.org>\n.. currentmodule:: gwpy.timeseries\n\n# Plotting a `Spectrogram`\n\nOne of the most useful methods of visualising gravitational-wave data is to\nuse a spectrogram, highlighting the frequency-domain content of some data\nover a number of time steps.\n\nFor this example we can use the public data around the |GW150914|_ detection.\n"
      ]
    },
    {
      "cell_type": "markdown",
      "metadata": {},
      "source": [
        "First, we import the `TimeSeries` and call\n:meth:`TimeSeries.fetch_open_data` the download the strain\ndata for the LIGO-Hanford interferometer\n\n"
      ]
    },
    {
      "cell_type": "code",
      "execution_count": null,
      "metadata": {
        "collapsed": false
      },
      "outputs": [],
      "source": [
        "from gwpy.timeseries import TimeSeries\ndata = TimeSeries.fetch_open_data(\n    \"H1\",\n    \"Sep 14 2015 09:45\",\n    \"Sep 14 2015 09:55\",\n)"
      ]
    },
    {
      "cell_type": "markdown",
      "metadata": {},
      "source": [
        "Next, we can calculate a `~gwpy.spectrogram.Spectrogram` using the\n:meth:`spectrogram` method of the `TimeSeries` over a 2-second stride\nwith a 1-second FFT and # .5-second overlap (50%):\n\n"
      ]
    },
    {
      "cell_type": "code",
      "execution_count": null,
      "metadata": {
        "collapsed": false
      },
      "outputs": [],
      "source": [
        "specgram = data.spectrogram(2, fftlength=1, overlap=.5) ** (1/2.)"
      ]
    },
    {
      "cell_type": "markdown",
      "metadata": {},
      "source": [
        "<div class=\"alert alert-info\"><h4>Note</h4><p>:meth:`TimeSeries.spectrogram` returns a Power Spectral Density (PSD)\n   `~gwpy.spectrogram.Spectrogram` by default, so we use the ``** (1/2.)``\n   to convert this into a (more familiar) Amplitude Spectral Density.</p></div>\n\nFinally, we can make a plot using the\n:meth:`~gwpy.spectrogram.Spectrogram.plot` method\n\n"
      ]
    },
    {
      "cell_type": "code",
      "execution_count": null,
      "metadata": {
        "collapsed": false
      },
      "outputs": [],
      "source": [
        "plot = specgram.imshow(norm=\"log\", vmin=5e-24, vmax=1e-19)\nax = plot.gca()\nax.set_yscale(\"log\")\nax.set_ylim(10, 2000)\nax.colorbar(\n    label=r\"Gravitational-wave amplitude [strain/$\\sqrt{\\mathrm{Hz}}$]\")\nplot.show()"
      ]
    },
    {
      "cell_type": "markdown",
      "metadata": {},
      "source": [
        "This shows the relative stability of the interferometer sensitivity over\nthe ten-minute span. Despite there being a gravitational-wave signal in the\ndata, the resolution (and dynamic range) of the spectrogram make it\nimpossible to see. `sphx_glr_examples_spectrogram_ratio.py`\nshows how to normalise a `~gwpy.spectrogram.Spectrogram` to better\nsee features in the most sensitive frequency band.\n\n"
      ]
    }
  ],
  "metadata": {
    "kernelspec": {
      "display_name": "Python 3",
      "language": "python",
      "name": "python3"
    },
    "language_info": {
      "codemirror_mode": {
        "name": "ipython",
        "version": 3
      },
      "file_extension": ".py",
      "mimetype": "text/x-python",
      "name": "python",
      "nbconvert_exporter": "python",
      "pygments_lexer": "ipython3",
      "version": "3.11.13"
    }
  },
  "nbformat": 4,
  "nbformat_minor": 0
}