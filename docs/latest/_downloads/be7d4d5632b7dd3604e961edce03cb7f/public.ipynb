{
  "cells": [
    {
      "cell_type": "markdown",
      "metadata": {},
      "source": [
        "\n.. sectionauthor:: Duncan Macleod <duncan.macleod@ligo.org>\n.. currentmodule:: gwpy.timeseries\n\n# Accessing and visualising public GW detector data\n\nData from the current generation gravitational wave detectors are published\nby |GWOSCl| and freely available to the public.\nIn this example we demonstrate how to identify times of a published\nGW detection event, and to download and visualise detector data.\n"
      ]
    },
    {
      "cell_type": "markdown",
      "metadata": {},
      "source": [
        "Firstly, we can use the |gwosc-mod| Python package to query for the\ntime of the first gravitational-wave detection |GW150914|:\n\n"
      ]
    },
    {
      "cell_type": "code",
      "execution_count": null,
      "metadata": {
        "collapsed": false
      },
      "outputs": [],
      "source": [
        "from gwosc.datasets import event_gps\ngps = event_gps(\"GW150914\")"
      ]
    },
    {
      "cell_type": "markdown",
      "metadata": {},
      "source": [
        "GWpy's `TimeSeries` class provides an interface to the public |GWOSC|\ndata in the :meth:`~TimeSeries.fetch_open_data` method; to use it we\nneed to first import the `TimeSeries` object:\n\n"
      ]
    },
    {
      "cell_type": "code",
      "execution_count": null,
      "metadata": {
        "collapsed": false
      },
      "outputs": [],
      "source": [
        "from gwpy.timeseries import TimeSeries"
      ]
    },
    {
      "cell_type": "markdown",
      "metadata": {},
      "source": [
        "then call the :meth:`~TimeSeries.fetch_open_data` method, passing it the\nprefix for the interferometer we want (`'L1'` here for LIGO-Livingston),\nand the GPS start and stop times of our query (based around the GPS time\nfor GW150914):\n\n"
      ]
    },
    {
      "cell_type": "code",
      "execution_count": null,
      "metadata": {
        "collapsed": false
      },
      "outputs": [],
      "source": [
        "data = TimeSeries.fetch_open_data(\"L1\", gps-5, gps+5)"
      ]
    },
    {
      "cell_type": "markdown",
      "metadata": {},
      "source": [
        "and then we can make a plot:\n\n"
      ]
    },
    {
      "cell_type": "code",
      "execution_count": null,
      "metadata": {
        "collapsed": false
      },
      "outputs": [],
      "source": [
        "plot = data.plot(\n    title=\"LIGO Livingston Observatory data for GW150914\",\n    ylabel=\"Strain amplitude\",\n    color=\"gwpy:ligo-livingston\",\n    epoch=gps,\n)\nplot.show()"
      ]
    },
    {
      "cell_type": "markdown",
      "metadata": {},
      "source": [
        "We can't see anything that looks like a gravitational wave signal in these\ndata, the amplitude is dominated by low-frequency detector noise.\nFurther filtering is required to be able to identify the GW150914 event\nhere, see `sphx_glr_examples_signal_gw150914.py` for a more in-depth example of\nextracting signals from noise.\n\n"
      ]
    }
  ],
  "metadata": {
    "kernelspec": {
      "display_name": "Python 3",
      "language": "python",
      "name": "python3"
    },
    "language_info": {
      "codemirror_mode": {
        "name": "ipython",
        "version": 3
      },
      "file_extension": ".py",
      "mimetype": "text/x-python",
      "name": "python",
      "nbconvert_exporter": "python",
      "pygments_lexer": "ipython3",
      "version": "3.11.12"
    }
  },
  "nbformat": 4,
  "nbformat_minor": 0
}