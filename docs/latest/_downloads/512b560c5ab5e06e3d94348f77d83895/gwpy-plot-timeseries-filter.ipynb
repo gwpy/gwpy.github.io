{
  "cells": [
    {
      "cell_type": "markdown",
      "metadata": {},
      "source": [
        "\n# Filtered timeseries\n\n\nThis example shows the strain timeseries for the LIGO-Hanford detector\naround GW150914 filtered to emphasise the visibility of the known signal\n(see `sphx_glr_examples_signal_gw150914.py` for more detail).\n\n```shell\ngwpy-plot timeseries \\\n    --gwosc \\\n    --ifo H1 \\\n    --start 1126259458 \\\n    --duration 8 \\\n    --xmin 1126259462.1 \\\n    --xmax 1126259462.6 \\\n    --epoch 1126259462 \\\n    --xscale seconds \\\n    --lowpass 300 \\\n    --highpass 50 \\\n    --notch 60 120 \\\n    --ylabel 'Strain amplitude' \\\n    --geometry 1200x400 \\\n    --suptitle 'LIGO-Hanford strain (filtered) around GW150914' \\\n    --interactive\n```\n"
      ]
    },
    {
      "cell_type": "markdown",
      "metadata": {},
      "source": [
        "The same command can be executed directly in Python as:\n\n"
      ]
    },
    {
      "cell_type": "code",
      "execution_count": null,
      "metadata": {
        "collapsed": false
      },
      "outputs": [],
      "source": [
        "from gwpy.cli.gwpy_plot import main\nmain([\n    'timeseries',\n    '--gwosc',\n    '--ifo', 'H1',\n    '--start', '1126259458',\n    '--duration', '8',\n    '--xmin', '1126259462.1',\n    '--xmax', '1126259462.6',\n    '--epoch', '1126259462',\n    '--xscale', 'seconds',\n    '--lowpass', '300',\n    '--highpass', '50',\n    '--notch', '60', '120',\n    '--ylabel', 'Strain amplitude',\n    '--geometry', '1200x400',\n    '--suptitle', 'LIGO-Hanford strain (filtered) around GW150914',\n    '--interactive',\n])"
      ]
    }
  ],
  "metadata": {
    "kernelspec": {
      "display_name": "Python 3",
      "language": "python",
      "name": "python3"
    },
    "language_info": {
      "codemirror_mode": {
        "name": "ipython",
        "version": 3
      },
      "file_extension": ".py",
      "mimetype": "text/x-python",
      "name": "python",
      "nbconvert_exporter": "python",
      "pygments_lexer": "ipython3",
      "version": "3.11.12"
    }
  },
  "nbformat": 4,
  "nbformat_minor": 0
}