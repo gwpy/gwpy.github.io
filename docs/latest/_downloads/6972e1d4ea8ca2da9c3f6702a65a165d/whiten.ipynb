{
  "cells": [
    {
      "cell_type": "markdown",
      "metadata": {},
      "source": [
        "\n.. sectionauthor:: Duncan Macleod <duncan.macleod@ligo.org>\n.. currentmodule:: gwpy.timeseries\n\n# Whitening a `TimeSeries`\n\nMost data recorded from a gravitational-wave interferometer carry information\nacross a wide band of frequencies, typically up to a few kiloHertz, but\noften it is the case that the low-frequency amplitude dwarfs that of the\nhigh-frequency content, making discerning high-frequency features difficult.\nThis is especially true of the LIGO differential arm strain measurement,\nwhich encodes any gravitational wave signals that are present.\n\nWe employ a technique called 'whitening' to normalize the power at all\nfrequencies so that excess power at any frequency is more obvious.\n\nWe demonstrate below the LIGO-Livingston gravitational-wave strain\nmeasurement signal around |GW200129|_, the loudest signal as yet\ndetected by LIGO.\n"
      ]
    },
    {
      "cell_type": "markdown",
      "metadata": {},
      "source": [
        "## Data access\nFirst, we use the |gwosc-mod| Python client to get the GPS time of the\nevent:\n\n"
      ]
    },
    {
      "cell_type": "code",
      "execution_count": null,
      "metadata": {
        "collapsed": false
      },
      "outputs": [],
      "source": [
        "from gwosc.datasets import event_gps\ngps = event_gps(\"GW200129_065458\")"
      ]
    },
    {
      "cell_type": "markdown",
      "metadata": {},
      "source": [
        "Then we can import the `TimeSeries` object and fetch the strain data using\n:meth:`TimeSeries.fetch_open_data` in a window around that event:\n\n"
      ]
    },
    {
      "cell_type": "code",
      "execution_count": null,
      "metadata": {
        "collapsed": false
      },
      "outputs": [],
      "source": [
        "from gwpy.timeseries import TimeSeries\ndata = TimeSeries.fetch_open_data(\"L1\", int(gps) - 64, int(gps) + 64)"
      ]
    },
    {
      "cell_type": "markdown",
      "metadata": {},
      "source": [
        "To demonstrate the relative power across the frequency band, we can\nquickly estimate an Amplitude Spectral Density (ASD) for these data:\n\n"
      ]
    },
    {
      "cell_type": "code",
      "execution_count": null,
      "metadata": {
        "collapsed": false
      },
      "outputs": [],
      "source": [
        "asd = data.asd(fftlength=8)\nplot = asd.plot(\n    xlim=(8, 1000),\n    ylabel=\"Strain ASD [$1/\\\\sqrt{Hz}$]\",\n)\nplot.show()"
      ]
    },
    {
      "cell_type": "markdown",
      "metadata": {},
      "source": [
        "## Whitening\nThe ASD clearly shows the dominance in amplitude of the lowest frequency\ncomponents of the data, where the seismic noise around the observatory\nis most impactful.\nWe can now :meth:`~TimeSeries.whiten` the data to to normalise the\namplitudes across the frequency range:\n\n"
      ]
    },
    {
      "cell_type": "code",
      "execution_count": null,
      "metadata": {
        "collapsed": false
      },
      "outputs": [],
      "source": [
        "white = data.whiten(fftlength=8)"
      ]
    },
    {
      "cell_type": "markdown",
      "metadata": {},
      "source": [
        "and can `~TimeSeries.plot` both the original and whitened data around the\nevent time:\n\n"
      ]
    },
    {
      "cell_type": "code",
      "execution_count": null,
      "metadata": {
        "collapsed": false
      },
      "outputs": [],
      "source": [
        "from gwpy.plot import Plot\nplot = Plot(\n    data,\n    white,\n    separate=True,\n    sharex=True,\n    epoch=gps,\n    xlim=(gps - 1, gps + 1),\n)\nplot.axes[0].set_ylabel(\"Strain amplitude\", fontsize=16)\nplot.axes[1].set_ylabel(\"Whitened strain amplitude\", fontsize=16)\nplot.show()"
      ]
    },
    {
      "cell_type": "markdown",
      "metadata": {},
      "source": [
        "The top figure is dominated by the low-frequency noise, whereas the\nwhitened data below highlights a few spikes in the data at higher\nfrequencies.\n\nWe can zoom in very close around the event time:\n\n"
      ]
    },
    {
      "cell_type": "code",
      "execution_count": null,
      "metadata": {
        "collapsed": false
      },
      "outputs": [],
      "source": [
        "plot = white.crop(gps - .1, gps + .1).plot(\n    ylabel=\"Whitened strain amplitude\",\n)\nplot.axes[0].set_epoch(gps)\nplot.show()"
      ]
    },
    {
      "cell_type": "markdown",
      "metadata": {},
      "source": [
        "Here, centred around time 0.03 is the clear signature of a binary black hole\nmerger, |GW200129|_.\nThis signal is completely hidden in the unfiltered data, but the simple act\nof whitening has exposed the loudest gravitational-wave event ever detected!\n\n"
      ]
    }
  ],
  "metadata": {
    "kernelspec": {
      "display_name": "Python 3",
      "language": "python",
      "name": "python3"
    },
    "language_info": {
      "codemirror_mode": {
        "name": "ipython",
        "version": 3
      },
      "file_extension": ".py",
      "mimetype": "text/x-python",
      "name": "python",
      "nbconvert_exporter": "python",
      "pygments_lexer": "ipython3",
      "version": "3.11.12"
    }
  },
  "nbformat": 4,
  "nbformat_minor": 0
}