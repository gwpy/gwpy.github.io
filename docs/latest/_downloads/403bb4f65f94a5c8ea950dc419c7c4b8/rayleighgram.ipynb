{
  "cells": [
    {
      "cell_type": "markdown",
      "metadata": {},
      "source": [
        "\n.. sectionauthor:: Duncan Macleod <duncan.macleod@ligo.org>\n.. currentmodule:: gwpy.timeseries\n\n# Plotting a `Spectrogram` of the Rayleigh statistic\n\nAs described in `sphx_glr_examples_frequencyseries_rayleigh.py`, the Rayleigh\nstatistic can be used to study non-Gaussianity in a timeseries.\nWe can study the time variance of these features by plotting a\ntime-frequency spectrogram where we calculate the Rayleigh statistic for\neach time bin.\n"
      ]
    },
    {
      "cell_type": "markdown",
      "metadata": {},
      "source": [
        "To demonstate this, we can load some data from the LIGO Livingston\ninterferometer around the time of the GW151226 gravitational wave detection:\n\n"
      ]
    },
    {
      "cell_type": "code",
      "execution_count": null,
      "metadata": {
        "collapsed": false
      },
      "outputs": [],
      "source": [
        "from gwpy.timeseries import TimeSeries\ngwdata = TimeSeries.fetch_open_data(\n    \"L1\",\n    \"Dec 26 2015 03:37\",\n    \"Dec 26 2015 03:47\",\n)"
      ]
    },
    {
      "cell_type": "markdown",
      "metadata": {},
      "source": [
        "Next, we can calculate a Rayleigh statistic `Spectrogram` using the\n:meth:`~gwpy.timeseries.TimeSeries.rayleigh_spectrogram` method of the\n`~gwpy.timeseries.TimeSeries` and a 5-second stride with a 2-second FFT and\n1-second overlap (50%):\n\n"
      ]
    },
    {
      "cell_type": "code",
      "execution_count": null,
      "metadata": {
        "collapsed": false
      },
      "outputs": [],
      "source": [
        "rayleigh = gwdata.rayleigh_spectrogram(5, fftlength=2, overlap=1)"
      ]
    },
    {
      "cell_type": "markdown",
      "metadata": {},
      "source": [
        "and can make a plot using the :meth:`~Spectrogram.plot` method\n\n"
      ]
    },
    {
      "cell_type": "code",
      "execution_count": null,
      "metadata": {
        "collapsed": false
      },
      "outputs": [],
      "source": [
        "plot = rayleigh.plot(norm=\"log\", vmin=0.25, vmax=4)\nax = plot.gca()\nax.set_yscale(\"log\")\nax.set_ylim(30, 1500)\nax.set_title(\"Sensitivity of LIGO-Livingston around GW151226\")\nax.colorbar(cmap=\"coolwarm\", label=\"Rayleigh statistic\")\nplot.show()"
      ]
    }
  ],
  "metadata": {
    "kernelspec": {
      "display_name": "Python 3",
      "language": "python",
      "name": "python3"
    },
    "language_info": {
      "codemirror_mode": {
        "name": "ipython",
        "version": 3
      },
      "file_extension": ".py",
      "mimetype": "text/x-python",
      "name": "python",
      "nbconvert_exporter": "python",
      "pygments_lexer": "ipython3",
      "version": "3.11.13"
    }
  },
  "nbformat": 4,
  "nbformat_minor": 0
}