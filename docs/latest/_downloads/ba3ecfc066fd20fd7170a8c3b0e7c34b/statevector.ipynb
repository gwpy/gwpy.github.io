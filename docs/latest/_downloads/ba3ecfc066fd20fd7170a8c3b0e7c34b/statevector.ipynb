{
  "cells": [
    {
      "cell_type": "markdown",
      "metadata": {},
      "source": [
        "\n.. sectionauthor:: Duncan Macleod <duncan.macleod@ligo.org>\n.. currentmodule:: gwpy.timeseries\n\n# Plotting segments for a `StateVector`\n\nConfident detection of gravitational-wave signals is critically dependent\non understanding the quality of the data searched.\nAlongside the strain *h(t)* data, |GWOSC|_ also\nreleases a *Data Quality* `state vector <gwpy-statevector>`.\nWe can use this to check on the quality of the data from the LIGO Livingston\ndetector around |GW170817|_.\n"
      ]
    },
    {
      "cell_type": "markdown",
      "metadata": {},
      "source": [
        "First, we can import the `StateVector` class:\n\n"
      ]
    },
    {
      "cell_type": "code",
      "execution_count": null,
      "metadata": {
        "collapsed": false
      },
      "outputs": [],
      "source": [
        "from gwpy.timeseries import StateVector"
      ]
    },
    {
      "cell_type": "markdown",
      "metadata": {},
      "source": [
        "and download the state information surrounding GW170817:\n\n"
      ]
    },
    {
      "cell_type": "code",
      "execution_count": null,
      "metadata": {
        "collapsed": false
      },
      "outputs": [],
      "source": [
        "data = StateVector.fetch_open_data(\n    \"L1\",\n    1187008882 - 100,\n    1187008882 + 100,\n    verbose=True,\n)"
      ]
    },
    {
      "cell_type": "markdown",
      "metadata": {},
      "source": [
        "Finally, we make a :meth:`~StateVector.plot`, passing `insetlabels=True` to\ndisplay the bit names inside the axes:\n\n"
      ]
    },
    {
      "cell_type": "code",
      "execution_count": null,
      "metadata": {
        "collapsed": false
      },
      "outputs": [],
      "source": [
        "plot = data.plot(insetlabels=True)\nax = plot.gca()\nax.set_xscale(\"seconds\", epoch=1187008882)\nax.axvline(1187008882, color=\"orange\", linestyle=\"--\")\nax.set_title(\"LIGO-Livingston data quality around GW170817\")\nplot.show()"
      ]
    },
    {
      "cell_type": "markdown",
      "metadata": {},
      "source": [
        "This plot shows that for a short time exactly overlapping with GW170817\nthere was a data quality issue recorded that would negatively impact a\nsearch for generic gravitational-wave transients (bursts).\nFor more details on this *glitch*, and on how it was excised, please see\nthe science summary for |GW170817|_.\n\n"
      ]
    }
  ],
  "metadata": {
    "kernelspec": {
      "display_name": "Python 3",
      "language": "python",
      "name": "python3"
    },
    "language_info": {
      "codemirror_mode": {
        "name": "ipython",
        "version": 3
      },
      "file_extension": ".py",
      "mimetype": "text/x-python",
      "name": "python",
      "nbconvert_exporter": "python",
      "pygments_lexer": "ipython3",
      "version": "3.11.13"
    }
  },
  "nbformat": 4,
  "nbformat_minor": 0
}