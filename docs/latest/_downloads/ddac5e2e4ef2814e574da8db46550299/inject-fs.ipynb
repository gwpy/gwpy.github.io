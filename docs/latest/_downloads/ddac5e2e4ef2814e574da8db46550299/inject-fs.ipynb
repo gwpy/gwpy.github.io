{
  "cells": [
    {
      "cell_type": "markdown",
      "metadata": {},
      "source": [
        "\n.. currentmodule:: gwpy.timeseries\n.. sectionauthor:: Alex Urban <alexander.urban@ligo.org>\n\n# Inject a signal into a `FrequencySeries`\n\nIt can often be useful to add some known signal to inherently random\nor noisy data. For example, one might want to investigate what\nwould happen if a binary black hole merger signal occured at or near\nthe time of a glitch. In LIGO data analysis, this procedure is referred\nto as an *injection*.\n\nIn the example below we will create a stream of random, white Gaussian\nnoise, then inject a loud, steady sinuosoid. We will do this in the\nfrequency domain because it is much easier to model a sinusoid there.\n"
      ]
    },
    {
      "cell_type": "markdown",
      "metadata": {},
      "source": [
        "## Generate random data\nFirst, we prepare one second of Gaussian noise using\n`numpy.random.Generator.normal`:\n\n"
      ]
    },
    {
      "cell_type": "code",
      "execution_count": null,
      "metadata": {
        "collapsed": false
      },
      "outputs": [],
      "source": [
        "from numpy.random import default_rng\nfrom gwpy.timeseries import TimeSeries\nrng = default_rng()\nnoise = TimeSeries(rng.normal(scale=.1, size=1024), sample_rate=1024)"
      ]
    },
    {
      "cell_type": "markdown",
      "metadata": {},
      "source": [
        "To inject a signal in the frequency domain, we need to take an FFT:\n\n"
      ]
    },
    {
      "cell_type": "code",
      "execution_count": null,
      "metadata": {
        "collapsed": false
      },
      "outputs": [],
      "source": [
        "noisefd = noise.fft()"
      ]
    },
    {
      "cell_type": "markdown",
      "metadata": {},
      "source": [
        "## Inject noise\nWe can now easily inject a loud sinusoid of unit amplitude at, say,\n30 Hz. To do this, we use\n:meth:`~gwpy.frequencyseries.FrequencySeries.inject`:\n\n"
      ]
    },
    {
      "cell_type": "code",
      "execution_count": null,
      "metadata": {
        "collapsed": false
      },
      "outputs": [],
      "source": [
        "import numpy\nfrom gwpy.frequencyseries import FrequencySeries\nsignal = FrequencySeries(numpy.array([1.]), f0=30, df=noisefd.df)\ninjfd = noisefd.inject(signal)"
      ]
    },
    {
      "cell_type": "markdown",
      "metadata": {},
      "source": [
        "## Visualisation\nWe can then visualize the data before and after injection in the frequency\ndomain:\n\n"
      ]
    },
    {
      "cell_type": "code",
      "execution_count": null,
      "metadata": {
        "collapsed": false
      },
      "outputs": [],
      "source": [
        "from gwpy.plot import Plot\nplot = Plot(\n    numpy.abs(noisefd),\n    numpy.abs(injfd),\n    xscale=\"log\",\n    yscale=\"log\",\n)\nplot.show()"
      ]
    },
    {
      "cell_type": "markdown",
      "metadata": {},
      "source": [
        "Finally, for completeness we can visualize the effect before and after\ninjection back in the time domain:\n\n"
      ]
    },
    {
      "cell_type": "code",
      "execution_count": null,
      "metadata": {
        "collapsed": false
      },
      "outputs": [],
      "source": [
        "inj = injfd.ifft()\nplot = Plot(\n    noise,\n    inj,\n    separate=True,\n    sharex=True,\n    sharey=True,\n    figsize=(12, 6),\n)\nplot.show()"
      ]
    }
  ],
  "metadata": {
    "kernelspec": {
      "display_name": "Python 3",
      "language": "python",
      "name": "python3"
    },
    "language_info": {
      "codemirror_mode": {
        "name": "ipython",
        "version": 3
      },
      "file_extension": ".py",
      "mimetype": "text/x-python",
      "name": "python",
      "nbconvert_exporter": "python",
      "pygments_lexer": "ipython3",
      "version": "3.11.12"
    }
  },
  "nbformat": 4,
  "nbformat_minor": 0
}