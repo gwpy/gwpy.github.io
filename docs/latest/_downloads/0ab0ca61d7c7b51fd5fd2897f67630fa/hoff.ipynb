{
  "cells": [
    {
      "cell_type": "markdown",
      "metadata": {},
      "source": [
        "\n.. sectionauthor:: Duncan Macleod <duncan.macleod@ligo.org>\n.. currentmodule:: gwpy.frequencyseries\n\n# Calculate and plot a `FrequencySeries`\n\nOne of the principal means of estimating the sensitivity of a\ngravitational-wave detector is to esimate it's amplitude spectral density\n(ASD).\nThe ASD is a measurement of how a signal's amplitude varies across\ndifferent frequencies.\n\nThe ASD can be estimated directly from a `TimeSeries` using the\n:meth:`~gwpy.timeseries.TimeSeries.asd` method.\n"
      ]
    },
    {
      "cell_type": "markdown",
      "metadata": {},
      "source": [
        "## Data access\nFor this example we choose to estimate the ASD around |GW200115|_,\none of the first observations of a neutron star-black hole binary.\nWe can use the |gwosc-mod| Python package to query for the relevant GPS time:\n\n"
      ]
    },
    {
      "cell_type": "code",
      "execution_count": null,
      "metadata": {
        "collapsed": false
      },
      "outputs": [],
      "source": [
        "from gwosc.datasets import event_gps\ngps = event_gps(\"GW200115\")"
      ]
    },
    {
      "cell_type": "markdown",
      "metadata": {},
      "source": [
        "In order to generate a `FrequencySeries` we need to import the\n`~gwpy.timeseries.TimeSeries` and use\n:meth:`~gwpy.timeseries.TimeSeries.fetch_open_data` to download the strain\nrecords:\n\n"
      ]
    },
    {
      "cell_type": "code",
      "execution_count": null,
      "metadata": {
        "collapsed": false
      },
      "outputs": [],
      "source": [
        "from gwpy.timeseries import TimeSeries\nlho = TimeSeries.fetch_open_data(\"H1\", gps - 16, gps + 16)\nllo = TimeSeries.fetch_open_data(\"L1\", gps - 16, gps + 16)"
      ]
    },
    {
      "cell_type": "markdown",
      "metadata": {},
      "source": [
        "## Calculate the ASDs\nWe can then call the :meth:`~gwpy.timeseries.TimeSeries.asd` method to\ncalculated the amplitude spectral density for each\n`~gwpy.timeseries.TimeSeries`:\n\n"
      ]
    },
    {
      "cell_type": "code",
      "execution_count": null,
      "metadata": {
        "collapsed": false
      },
      "outputs": [],
      "source": [
        "lhoasd = lho.asd(4, 2)\nlloasd = llo.asd(4, 2)"
      ]
    },
    {
      "cell_type": "markdown",
      "metadata": {},
      "source": [
        "## Visualisation\nWe can then :meth:`~FrequencySeries.plot` the spectra using the 'standard'\ncolour scheme:\n\n"
      ]
    },
    {
      "cell_type": "code",
      "execution_count": null,
      "metadata": {
        "collapsed": false
      },
      "outputs": [],
      "source": [
        "plot = lhoasd.plot(label=\"LIGO-Hanford\", color=\"gwpy:ligo-hanford\")\nax = plot.gca()\nax.plot(lloasd, label=\"LIGO-Livingston\", color=\"gwpy:ligo-livingston\")\nax.set_xlim(16, 1600)\nax.set_ylim(1e-24, 1e-21)\nax.set_ylabel(r\"Strain ASD [1/$\\sqrt{\\mathrm{Hz}}]$\")\nax.legend(frameon=False, bbox_to_anchor=(1., 1.), loc=\"lower right\", ncol=2)\nplot.show()"
      ]
    }
  ],
  "metadata": {
    "kernelspec": {
      "display_name": "Python 3",
      "language": "python",
      "name": "python3"
    },
    "language_info": {
      "codemirror_mode": {
        "name": "ipython",
        "version": 3
      },
      "file_extension": ".py",
      "mimetype": "text/x-python",
      "name": "python",
      "nbconvert_exporter": "python",
      "pygments_lexer": "ipython3",
      "version": "3.11.13"
    }
  },
  "nbformat": 4,
  "nbformat_minor": 0
}