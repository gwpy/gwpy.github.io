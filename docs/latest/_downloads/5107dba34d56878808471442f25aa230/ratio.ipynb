{
  "cells": [
    {
      "cell_type": "markdown",
      "metadata": {},
      "source": [
        "\n.. sectionauthor:: Duncan Macleod <duncan.macleod@ligo.org>\n.. currentmodule:: gwpy.timeseries\n\n# Plotting a normalised `~gwpy.spectrogram.Spectrogram`\n\nThe `sphx_glr_examples_spectrogram_plot.py` example showed how to\ngenerate and display a `~gwpy.spectrogram.Spectrogram` of the LIGO-Hanford\nstrain data around the |GW150914|_ event.\n\nHowever, because of the shape of the LIGO sensitivity curve, picking out\nfeatures in the most sensitive frequency band (a few hundred Hertz) is\nvery hard.\n\nWe can normalise our `~gwpy.spectrogram.Spectrogram` to highligh those\nfeatures.\n"
      ]
    },
    {
      "cell_type": "markdown",
      "metadata": {},
      "source": [
        "Again, we import the `TimeSeries` and call\n:meth:`TimeSeries.fetch_open_data` the download the strain\ndata for the LIGO-Hanford interferometer\n\n"
      ]
    },
    {
      "cell_type": "code",
      "execution_count": null,
      "metadata": {
        "collapsed": false
      },
      "outputs": [],
      "source": [
        "from gwpy.timeseries import TimeSeries\ndata = TimeSeries.fetch_open_data(\n    \"H1\",\n    \"Sep 14 2015 09:45\",\n    \"Sep 14 2015 09:55\",\n)"
      ]
    },
    {
      "cell_type": "markdown",
      "metadata": {},
      "source": [
        "Next, we can calculate a `~gwpy.spectrogram.Spectrogram` using the\n:meth:`spectrogram` method of the `TimeSeries` over a 2-second stride\nwith a 1-second FFT and # .5-second overlap (50%):\n\n"
      ]
    },
    {
      "cell_type": "code",
      "execution_count": null,
      "metadata": {
        "collapsed": false
      },
      "outputs": [],
      "source": [
        "specgram = data.spectrogram(2, fftlength=1, overlap=.5) ** (1/2.)"
      ]
    },
    {
      "cell_type": "markdown",
      "metadata": {},
      "source": [
        "and can normalise it against the overall median ASD by calling the\n:meth:`~gwpy.spectrogram.Spectrogram.ratio` method:\n\n"
      ]
    },
    {
      "cell_type": "code",
      "execution_count": null,
      "metadata": {
        "collapsed": false
      },
      "outputs": [],
      "source": [
        "normalised = specgram.ratio(\"median\")"
      ]
    },
    {
      "cell_type": "markdown",
      "metadata": {},
      "source": [
        "Finally, we can make a plot using the\n:meth:`~gwpy.spectrogram.Spectrogram.plot` method\n\n"
      ]
    },
    {
      "cell_type": "code",
      "execution_count": null,
      "metadata": {
        "collapsed": false
      },
      "outputs": [],
      "source": [
        "plot = normalised.plot(norm=\"log\", vmin=.1, vmax=10, cmap=\"Spectral_r\")\nax = plot.gca()\nax.set_yscale(\"log\")\nax.set_ylim(10, 2000)\nax.colorbar(label=\"Relative amplitude\")\nplot.show()"
      ]
    },
    {
      "cell_type": "markdown",
      "metadata": {},
      "source": [
        "Even with a normalised spectrogram, the resolution is such that a signal\nas short as that of GW150914 is impossible to see.\nSee `sphx_glr_examples_spectrogram_spectrogram2.py` for an example that\nuses a high-resolution spectrogram method to zoom in around the exact time of\nthe signal.\n\n"
      ]
    }
  ],
  "metadata": {
    "kernelspec": {
      "display_name": "Python 3",
      "language": "python",
      "name": "python3"
    },
    "language_info": {
      "codemirror_mode": {
        "name": "ipython",
        "version": 3
      },
      "file_extension": ".py",
      "mimetype": "text/x-python",
      "name": "python",
      "nbconvert_exporter": "python",
      "pygments_lexer": "ipython3",
      "version": "3.11.13"
    }
  },
  "nbformat": 4,
  "nbformat_minor": 0
}