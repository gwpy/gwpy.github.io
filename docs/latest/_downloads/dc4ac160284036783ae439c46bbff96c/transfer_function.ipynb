{
  "cells": [
    {
      "cell_type": "markdown",
      "metadata": {},
      "source": [
        "\n.. sectionauthor:: Duncan Macleod <duncan.macleod@ligo.org>\n.. currentmodule:: gwpy.timeseries\n\n# Transfer function\n\nIn this example we demonstrate how to calculate the transfer function\nbetween two `TimeSeries` signals.\n\nAll ground-based gravitational wave observatories would be unable to\noperate if they did not employ sophisticated ground-motion suppression\ntechnology to prevent vibrations from the local (or remote) environment\nfrom transferring through to optical components.\n\nThe impact of the seismic isolation system can be seen by calculating\nthe transfer function between the ground motion at the laboratory\nand that of the optical suspension points.\n"
      ]
    },
    {
      "cell_type": "code",
      "execution_count": null,
      "metadata": {
        "collapsed": false
      },
      "outputs": [],
      "source": [
        "from gwpy.time import tconvert\nfrom gwpy.timeseries import TimeSeriesDict\nfrom gwpy.plot import BodePlot"
      ]
    },
    {
      "cell_type": "markdown",
      "metadata": {},
      "source": [
        "For this example we will use data from the |GWOSC_AUX_RELEASE|_:\n\n"
      ]
    },
    {
      "cell_type": "code",
      "execution_count": null,
      "metadata": {
        "collapsed": false
      },
      "outputs": [],
      "source": [
        "start = tconvert(\"August 14 2017 10:25\")\nend = start + 1800\ngndchannel = \"L1:ISI-GND_STS_ITMY_Y_DQ\"\nsuschannel = \"L1:ISI-ITMY_SUSPOINT_ITMY_EUL_L_DQ\""
      ]
    },
    {
      "cell_type": "markdown",
      "metadata": {},
      "source": [
        "We can call the :meth:`~TimeSeriesDict.get` method of the `TimeSeriesDict`\nto retrieve all data in a single operation:\n\n"
      ]
    },
    {
      "cell_type": "code",
      "execution_count": null,
      "metadata": {
        "collapsed": false
      },
      "outputs": [],
      "source": [
        "data = TimeSeriesDict.get(\n    [gndchannel, suschannel],\n    start,\n    end,\n    verbose=True,\n    host=\"nds.gwosc.org\",\n)\ngnd = data[gndchannel]\nsus = data[suschannel]"
      ]
    },
    {
      "cell_type": "markdown",
      "metadata": {},
      "source": [
        "The transfer function between time series is easily computed with the\n:meth:`~TimeSeries.transfer_function` method:\n\n"
      ]
    },
    {
      "cell_type": "code",
      "execution_count": null,
      "metadata": {
        "collapsed": false
      },
      "outputs": [],
      "source": [
        "tf = gnd.transfer_function(sus, fftlength=128, overlap=64)"
      ]
    },
    {
      "cell_type": "markdown",
      "metadata": {},
      "source": [
        "The `~gwpy.plot.BodePlot` knows how to separate a complex-valued\n`~gwpy.frequencyseries.FrequencySeries` into magnitude and phase:\n\n"
      ]
    },
    {
      "cell_type": "code",
      "execution_count": null,
      "metadata": {
        "collapsed": false
      },
      "outputs": [],
      "source": [
        "plot = BodePlot(tf)\nplot.maxes.set_title(\n    r\"L1 ITMY ground $\\rightarrow$ SUS transfer function\",\n)\nplot.maxes.set_xlim(5e-2, 30)\nplot.show()\n\n# This example demonstrates the impressive noise suppression of the LIGO\n# seismic isolation system. For more details, please see\n# https://www.ligo.caltech.edu/page/vibration-isolation."
      ]
    }
  ],
  "metadata": {
    "kernelspec": {
      "display_name": "Python 3",
      "language": "python",
      "name": "python3"
    },
    "language_info": {
      "codemirror_mode": {
        "name": "ipython",
        "version": 3
      },
      "file_extension": ".py",
      "mimetype": "text/x-python",
      "name": "python",
      "nbconvert_exporter": "python",
      "pygments_lexer": "ipython3",
      "version": "3.11.13"
    }
  },
  "nbformat": 4,
  "nbformat_minor": 0
}