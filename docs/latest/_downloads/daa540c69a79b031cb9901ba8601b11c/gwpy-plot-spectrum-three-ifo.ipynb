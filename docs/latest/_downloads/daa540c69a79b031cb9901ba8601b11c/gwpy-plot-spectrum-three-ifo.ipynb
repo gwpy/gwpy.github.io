{
  "cells": [
    {
      "cell_type": "markdown",
      "metadata": {},
      "source": [
        "\n# Spectrum with three interferometers\n\n\nThis example shows the spectrum (power spectral density) of strain\ndata for the three active detectors around GW200129_065458\n(see |GWTC-3l|_ for full details).\n\n```shell\ngwpy-plot spectrum \\\n    --gwosc \\\n    --ifo H1 L1 V1 \\\n    --start 1264316100 \\\n    --duration 32 \\\n    --xmin 10 \\\n    --xmax 1600 \\\n    --suptitle \"GW detector sensitivity around GW200129_065458\" \\\n    --interactive\n```\n"
      ]
    },
    {
      "cell_type": "markdown",
      "metadata": {},
      "source": [
        "The same command can be executed directly in Python as:\n\n"
      ]
    },
    {
      "cell_type": "code",
      "execution_count": null,
      "metadata": {
        "collapsed": false
      },
      "outputs": [],
      "source": [
        "from gwpy.cli.gwpy_plot import main\nmain([\n    'spectrum',\n    '--gwosc',\n    '--ifo', 'H1', 'L1', 'V1',\n    '--start', '1264316100',\n    '--duration', '32',\n    '--xmin', '10',\n    '--xmax', '1600',\n    '--suptitle', 'GW detector sensitivity around GW200129_065458',\n    '--interactive',\n])"
      ]
    }
  ],
  "metadata": {
    "kernelspec": {
      "display_name": "Python 3",
      "language": "python",
      "name": "python3"
    },
    "language_info": {
      "codemirror_mode": {
        "name": "ipython",
        "version": 3
      },
      "file_extension": ".py",
      "mimetype": "text/x-python",
      "name": "python",
      "nbconvert_exporter": "python",
      "pygments_lexer": "ipython3",
      "version": "3.11.12"
    }
  },
  "nbformat": 4,
  "nbformat_minor": 0
}