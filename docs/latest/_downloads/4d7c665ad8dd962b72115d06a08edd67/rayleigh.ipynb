{
  "cells": [
    {
      "cell_type": "markdown",
      "metadata": {},
      "source": [
        "\n.. sectionauthor:: Duncan Macleod <duncan.macleod@ligo.org>\n.. currentmodule:: gwpy.timeseries\n\n# Plotting a Rayleigh-statistic `Spectrum`\n\nIn LIGO the 'Rayleigh' statistic is a calculation of the\n[coefficient of variation](https://en.wikipedia.org/wiki/Coefficient_of_variation) of the\npower spectral density (PSD) of a given set of data.\nIt is used to measure the 'Gaussianity' of those data, where a value of 1\nindicates Gaussian behaviour, less than 1 indicates coherent variations,\nand greater than 1 indicates incoherent variation.\nIt is a useful measure of the quality of the strain data being generated\nand recorded at a LIGO site.\n"
      ]
    },
    {
      "cell_type": "markdown",
      "metadata": {},
      "source": [
        "To demonstate this, we can load some data from the LIGO Livingston\ninterferometer around the time of the GW151226 gravitational wave detection:\n\n"
      ]
    },
    {
      "cell_type": "code",
      "execution_count": null,
      "metadata": {
        "collapsed": false
      },
      "outputs": [],
      "source": [
        "from gwpy.timeseries import TimeSeries\ngwdata = TimeSeries.fetch_open_data(\n    \"L1\",\n    \"Dec 26 2015 03:37\",\n    \"Dec 26 2015 03:47\",\n)"
      ]
    },
    {
      "cell_type": "markdown",
      "metadata": {},
      "source": [
        "Next, we can calculate a Rayleigh statistic `FrequencySeries` using the\n:meth:`~gwpy.timeseries.TimeSeries.rayleigh_spectrum` method of the\n`~gwpy.timeseries.TimeSeries` with a 2-second FFT and 1-second overlap (50%):\n\n"
      ]
    },
    {
      "cell_type": "code",
      "execution_count": null,
      "metadata": {
        "collapsed": false
      },
      "outputs": [],
      "source": [
        "rayleigh = gwdata.rayleigh_spectrum(2, 1)"
      ]
    },
    {
      "cell_type": "markdown",
      "metadata": {},
      "source": [
        "For easy comparison, we can calculate the spectral sensitivity ASD of the\nstrain data and plot both on the same figure:\n\n"
      ]
    },
    {
      "cell_type": "code",
      "execution_count": null,
      "metadata": {
        "collapsed": false
      },
      "outputs": [],
      "source": [
        "from gwpy.plot import Plot\nplot = Plot(\n    gwdata.asd(2, 1),\n    rayleigh,\n    geometry=(2, 1),\n    sharex=True,\n    xscale=\"log\",\n    xlim=(30, 1500),\n)\nasdax, rayax = plot.axes\n# update ASD Axes\nasdax.set_title(\"Sensitivity of LIGO-Livingston around GW151226\")\nasdax.set_yscale(\"log\")\nasdax.set_ylim(5e-24, 1e-21)\nasdax.set_ylabel(r\"[strain/$\\sqrt{\\mathrm{Hz}}$]\")\n# update Rayleigh Axes\nrayax.set_ylim(0, 2)\nrayax.set_ylabel(\"Rayleigh statistic\")\nplot.show()"
      ]
    },
    {
      "cell_type": "markdown",
      "metadata": {},
      "source": [
        "So, we see sharp dips at certain frequencies associated with 'lines' in\nspectrum where noise at a fixed frequency is very coherent (e.g. harmonics\nof the 60Hz mains power supply), and bumps in specific frequency bands\nwhere the interferometer noise is non-stationary.\n\n"
      ]
    }
  ],
  "metadata": {
    "kernelspec": {
      "display_name": "Python 3",
      "language": "python",
      "name": "python3"
    },
    "language_info": {
      "codemirror_mode": {
        "name": "ipython",
        "version": 3
      },
      "file_extension": ".py",
      "mimetype": "text/x-python",
      "name": "python",
      "nbconvert_exporter": "python",
      "pygments_lexer": "ipython3",
      "version": "3.11.12"
    }
  },
  "nbformat": 4,
  "nbformat_minor": 0
}