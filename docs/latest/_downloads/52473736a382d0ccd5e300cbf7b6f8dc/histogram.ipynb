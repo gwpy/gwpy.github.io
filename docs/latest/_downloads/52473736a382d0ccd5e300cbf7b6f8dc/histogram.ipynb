{
  "cells": [
    {
      "cell_type": "markdown",
      "metadata": {},
      "source": [
        "\n.. sectionauthor:: Duncan Macleod <duncan.macleod@ligo.org>\n.. currentmodule:: gwpy.table\n\n# Plotting an `EventTable` in a histogram\n\nI would like to study the distribution of the GW events detected to date.\n"
      ]
    },
    {
      "cell_type": "markdown",
      "metadata": {},
      "source": [
        "First, we can download the ``'GWTC-1-confident'`` catalogue using\n:meth:`EventTable.fetch_open_data`:\n\n"
      ]
    },
    {
      "cell_type": "code",
      "execution_count": null,
      "metadata": {
        "collapsed": false
      },
      "outputs": [],
      "source": [
        "from gwpy.table import EventTable\nevents = EventTable.fetch_open_data(\n    \"GWTC\",\n    columns=(\"mass_1_source\", \"mass_2_source\"),\n)\nevents.add_column(\n    events[\"mass_1_source\"] + events[\"mass_2_source\"],\n    name=\"mtotal\"\n)"
      ]
    },
    {
      "cell_type": "markdown",
      "metadata": {},
      "source": [
        "and can generate a new `~gwpy.plot.Plot` using the\n:meth:`~EventTable.hist` method:\n\n"
      ]
    },
    {
      "cell_type": "code",
      "execution_count": null,
      "metadata": {
        "collapsed": false
      },
      "outputs": [],
      "source": [
        "plot = events.hist(\"mtotal\", bins=20, range=(0, 100), histtype=\"stepfilled\")\nax = plot.gca()\nax.set_xlabel(r\"Total mass [M$_{\\odot}$]\")\nax.set_ylabel(\"Number of events\")\nax.set_title(\"GWTC events\")\nplot.show()"
      ]
    }
  ],
  "metadata": {
    "kernelspec": {
      "display_name": "Python 3",
      "language": "python",
      "name": "python3"
    },
    "language_info": {
      "codemirror_mode": {
        "name": "ipython",
        "version": 3
      },
      "file_extension": ".py",
      "mimetype": "text/x-python",
      "name": "python",
      "nbconvert_exporter": "python",
      "pygments_lexer": "ipython3",
      "version": "3.11.12"
    }
  },
  "nbformat": 4,
  "nbformat_minor": 0
}