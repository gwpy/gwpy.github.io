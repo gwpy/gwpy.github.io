{
  "cells": [
    {
      "cell_type": "markdown",
      "metadata": {},
      "source": [
        "\n.. sectionauthor:: Duncan Macleod <duncan.macleod@ligo.org>\n.. currentmodule:: gwpy.timeseries\n\n# Plotting an over-dense, short-duration `Spectrogram`\n\nThe normal `~TimeSeries.spectrogram` method uses non-overlapping intervals\nto calculate discrete PSDs for each stride. This is fine for long-duration\ndata, but give poor resolution when studying short-duration phenomena.\n\nThe `~TimeSeries.spectrogram2` method allows for highly-overlapping FFT\ncalculations to over-sample the frequency content of the input `TimeSeries`\nto produce a much more feature-rich output.\n"
      ]
    },
    {
      "cell_type": "markdown",
      "metadata": {},
      "source": [
        "To demonstrate this, we can download some data associated with the\ngravitational-wave event GW510914:\n\n"
      ]
    },
    {
      "cell_type": "code",
      "execution_count": null,
      "metadata": {
        "collapsed": false
      },
      "outputs": [],
      "source": [
        "from gwpy.timeseries import TimeSeries\nlho = TimeSeries.fetch_open_data(\"H1\", 1126259458, 1126259467)"
      ]
    },
    {
      "cell_type": "markdown",
      "metadata": {},
      "source": [
        "and can :meth:`~TimeSeries.highpass` and :meth:`~TimeSeries.whiten`\nthe remove low-frequency noise and try and enhance low-amplitude signals\nacross the middle of the frequency band:\n\n"
      ]
    },
    {
      "cell_type": "code",
      "execution_count": null,
      "metadata": {
        "collapsed": false
      },
      "outputs": [],
      "source": [
        "hp = lho.highpass(20)\nwhite = hp.whiten(4, 2).crop(1126259460, 1126259465)"
      ]
    },
    {
      "cell_type": "markdown",
      "metadata": {},
      "source": [
        "<div class=\"alert alert-info\"><h4>Note</h4><p>We chose to :meth:`~TimeSeries.crop` out the leading and trailing 2\n   seconds of the the whitened data series here to remove any filtering\n   artefacts that may have been introduced.</p></div>\n\nNow we can call the `~TimeSeries.spectrogram2` method of `gwdata` to\ncalculate our over-dense `~gwpy.spectrogram.Spectrogram`, using a\n1/16-second FFT length and high overlap:\n\n"
      ]
    },
    {
      "cell_type": "code",
      "execution_count": null,
      "metadata": {
        "collapsed": false
      },
      "outputs": [],
      "source": [
        "specgram = white.spectrogram2(fftlength=1/16., overlap=15/256.) ** (1/2.)\nspecgram = specgram.crop_frequencies(20)  # drop everything below highpass"
      ]
    },
    {
      "cell_type": "markdown",
      "metadata": {},
      "source": [
        "Finally, we make a plot:\n\n"
      ]
    },
    {
      "cell_type": "code",
      "execution_count": null,
      "metadata": {
        "collapsed": false
      },
      "outputs": [],
      "source": [
        "plot = specgram.plot(norm=\"log\", cmap=\"viridis\", yscale=\"log\")\nax = plot.gca()\nax.set_title(\"LIGO-Hanford strain data around GW150914\")\nax.set_xlim(1126259462, 1126259463)\nax.colorbar(label=r\"Strain ASD [1/$\\sqrt{\\mathrm{Hz}}$]\")\nplot.show()"
      ]
    },
    {
      "cell_type": "markdown",
      "metadata": {},
      "source": [
        "Here we can see the trace of a high-mass binary black hole system,\nreferred to as GW150914.\nFor more details on this signal, please see\n[Abbott et al. (2016)](https://doi.org/10.1103/PhysRevLett.116.061102)\n(the joint LSC-Virgo publication announcing this detection).\n\n"
      ]
    }
  ],
  "metadata": {
    "kernelspec": {
      "display_name": "Python 3",
      "language": "python",
      "name": "python3"
    },
    "language_info": {
      "codemirror_mode": {
        "name": "ipython",
        "version": 3
      },
      "file_extension": ".py",
      "mimetype": "text/x-python",
      "name": "python",
      "nbconvert_exporter": "python",
      "pygments_lexer": "ipython3",
      "version": "3.11.13"
    }
  },
  "nbformat": 4,
  "nbformat_minor": 0
}