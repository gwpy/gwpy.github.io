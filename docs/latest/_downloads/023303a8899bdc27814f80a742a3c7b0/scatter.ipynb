{
  "cells": [
    {
      "cell_type": "markdown",
      "metadata": {},
      "source": [
        "\n.. sectionauthor:: Duncan Macleod <duncan.macleod@ligo.org>\n.. currentmodule:: gwpy.table\n\n# Plotting an `EventTable` in a scatter\n\nWe can use GWpy's `EventTable` to download the catalogue of gravitational-wave\ndetections, and create a scatter plot to investigate the mass distribution\nof events.\n"
      ]
    },
    {
      "cell_type": "markdown",
      "metadata": {},
      "source": [
        "First, we can download the ``'GWTC-1-confident'`` catalogue using\n:meth:`EventTable.fetch_open_data`:\n\n"
      ]
    },
    {
      "cell_type": "code",
      "execution_count": null,
      "metadata": {
        "collapsed": false
      },
      "outputs": [],
      "source": [
        "from gwpy.table import EventTable\nevents = EventTable.fetch_open_data(\n    \"GWTC\",\n    columns=(\n        \"mass_1_source\",\n        \"mass_2_source\",\n        \"luminosity_distance\",\n        \"network_matched_filter_snr\",\n    ),\n)"
      ]
    },
    {
      "cell_type": "markdown",
      "metadata": {},
      "source": [
        "We can now make a scatter plot by specifying the x- and y-axis columns,\nand (optionally) the colour:\n\n"
      ]
    },
    {
      "cell_type": "code",
      "execution_count": null,
      "metadata": {
        "collapsed": false
      },
      "outputs": [],
      "source": [
        "plot = events.scatter(\n    \"mass_1_source\", \"mass_2_source\",\n    color=\"network_matched_filter_snr\",\n)\nplot.colorbar(label=\"Signal-to-noise ratio (SNR)\")\nplot.show()"
      ]
    },
    {
      "cell_type": "markdown",
      "metadata": {},
      "source": [
        "We can similarly plot how the total event mass is distributed with\ndistance.  First we have to build the total mass (``'mtotal'``) column\nfrom the component masses:\n\n"
      ]
    },
    {
      "cell_type": "code",
      "execution_count": null,
      "metadata": {
        "collapsed": false
      },
      "outputs": [],
      "source": [
        "events.add_column(\n    events[\"mass_1_source\"] + events[\"mass_2_source\"],\n    name=\"mtotal\"\n)"
      ]
    },
    {
      "cell_type": "markdown",
      "metadata": {},
      "source": [
        "and now can make a new scatter plot:\n\n"
      ]
    },
    {
      "cell_type": "code",
      "execution_count": null,
      "metadata": {
        "collapsed": false
      },
      "outputs": [],
      "source": [
        "plot = events.scatter(\"luminosity_distance\", \"mtotal\")\nplot.show()"
      ]
    }
  ],
  "metadata": {
    "kernelspec": {
      "display_name": "Python 3",
      "language": "python",
      "name": "python3"
    },
    "language_info": {
      "codemirror_mode": {
        "name": "ipython",
        "version": 3
      },
      "file_extension": ".py",
      "mimetype": "text/x-python",
      "name": "python",
      "nbconvert_exporter": "python",
      "pygments_lexer": "ipython3",
      "version": "3.11.12"
    }
  },
  "nbformat": 4,
  "nbformat_minor": 0
}