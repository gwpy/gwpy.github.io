{
  "cells": [
    {
      "cell_type": "markdown",
      "metadata": {},
      "source": [
        "\n.. sectionauthor:: Duncan Macleod <duncan.macleod@ligo.org>\n.. currentmodule:: gwpy.segments\n\n# Plotting observing segments for O1\n\nThe data from the full\n[Observing Run 1 (O1)](https://gwosc.org/O1/)_\nhave been released by |GWOSC|_.\n\nThis example demonstrates how to download segment information into a\n:class:`DataQualityFlag`, and then plot them.\n"
      ]
    },
    {
      "cell_type": "markdown",
      "metadata": {},
      "source": [
        "All we need to do is import the `DataQualityFlag` object, and then call\nthe :meth:`DataQualityFlag.fetch_open_data` method to query for, and download\nthe segments for all of O1:\n\n"
      ]
    },
    {
      "cell_type": "code",
      "execution_count": null,
      "metadata": {
        "collapsed": false
      },
      "outputs": [],
      "source": [
        "from gwpy.segments import DataQualityFlag\nh1segs = DataQualityFlag.fetch_open_data(\n    \"H1_DATA\",\n    \"Sep 12 2015\",\n    \"Jan 19 2016\",\n)"
      ]
    },
    {
      "cell_type": "markdown",
      "metadata": {},
      "source": [
        "We can then generate a plot of the times when LIGO-Hanford was operating:\n\n"
      ]
    },
    {
      "cell_type": "code",
      "execution_count": null,
      "metadata": {
        "collapsed": false
      },
      "outputs": [],
      "source": [
        "plot = h1segs.plot(color=\"gwpy:ligo-hanford\")\nplot.show()"
      ]
    },
    {
      "cell_type": "markdown",
      "metadata": {},
      "source": [
        "That's a lot of segments. We can pare-down the list a little to display\nonly the segments from the first month of the run:\n\n"
      ]
    },
    {
      "cell_type": "code",
      "execution_count": null,
      "metadata": {
        "collapsed": false
      },
      "outputs": [],
      "source": [
        "h1month1 = DataQualityFlag.fetch_open_data(\n    \"H1_DATA\",\n    \"Sep 12 2015\",\n    \"Oct 12 2015\",\n)"
      ]
    },
    {
      "cell_type": "markdown",
      "metadata": {},
      "source": [
        "We can also download the LIGO-Livingston segments from the same period\nand display them alongside, as well as those segments during which both\ninterferometers were operating at the same time\n(see `gwpy-segments-intersection` for more details on this use of the\n``&`` operator):\n\n"
      ]
    },
    {
      "cell_type": "code",
      "execution_count": null,
      "metadata": {
        "collapsed": false
      },
      "outputs": [],
      "source": [
        "l1month1 = DataQualityFlag.fetch_open_data(\n    \"L1_DATA\",\n    \"Sep 12 2015\",\n     \"Oct 12 2015\",\n)\nbothon = h1month1 & l1month1\nplot = h1month1.plot()\nax = plot.gca()\nax.plot(l1month1)\nax.plot(bothon, label=\"Both\")\nplot.show()"
      ]
    }
  ],
  "metadata": {
    "kernelspec": {
      "display_name": "Python 3",
      "language": "python",
      "name": "python3"
    },
    "language_info": {
      "codemirror_mode": {
        "name": "ipython",
        "version": 3
      },
      "file_extension": ".py",
      "mimetype": "text/x-python",
      "name": "python",
      "nbconvert_exporter": "python",
      "pygments_lexer": "ipython3",
      "version": "3.11.13"
    }
  },
  "nbformat": 4,
  "nbformat_minor": 0
}