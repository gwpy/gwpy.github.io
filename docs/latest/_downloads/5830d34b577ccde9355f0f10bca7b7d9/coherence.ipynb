{
  "cells": [
    {
      "cell_type": "markdown",
      "metadata": {},
      "source": [
        "\n.. currentmodule:: gwpy.timeseries\n.. sectionauthor:: Duncan Macleod <duncan.macleod@ligo.org>\n\n# Calculate the coherence between two channels\n\nThe [coherence](http://en.wikipedia.org/wiki/Coherence_(physics)) between\ntwo channels is a measure of the frequency-domain correlation between their\ntime-series data.\n\nIn LIGO, the coherence is a crucial indicator of how noise sources couple into\nthe main differential arm-length readout.\nHere we use use the :meth:`TimeSeries.coherence` method to highlight coupling\nof motion of a beam periscope attached to the main laser table into the\nstrain output of the LIGO-Hanford interferometer.\n\nThese data are available as part of the |GWOSC_AUX_RELEASE|_.\n"
      ]
    },
    {
      "cell_type": "markdown",
      "metadata": {},
      "source": [
        "## Data access\nFirst, we import the `TimeSeriesDict`\n\n"
      ]
    },
    {
      "cell_type": "code",
      "execution_count": null,
      "metadata": {
        "collapsed": false
      },
      "outputs": [],
      "source": [
        "from gwpy.timeseries import TimeSeriesDict"
      ]
    },
    {
      "cell_type": "markdown",
      "metadata": {},
      "source": [
        "and then :meth:`~TimeSeriesDict.get` the data for the differential-arm\nlength servo control loop error signal (``H1:LSC-DARM_IN1_DQ``) and the\nPSL periscope accelerometer (``H1:PEM-CS_ACC_PSL_PERISCOPE_X_DQ``):\n\n"
      ]
    },
    {
      "cell_type": "code",
      "execution_count": null,
      "metadata": {
        "collapsed": false
      },
      "outputs": [],
      "source": [
        "data = TimeSeriesDict.get(\n    [\"H1:LSC-DARM_IN1_DQ\", \"H1:PEM-CS_ACC_PSL_PERISCOPE_X_DQ\"],\n    1186741560,\n    1186742160,\n    host=\"nds.gwosc.org\",\n)\ndarm = data[\"H1:LSC-DARM_IN1_DQ\"]\nacc = data[\"H1:PEM-CS_ACC_PSL_PERISCOPE_X_DQ\"]"
      ]
    },
    {
      "cell_type": "markdown",
      "metadata": {},
      "source": [
        "## Calculating coherence\nWe can then calculate the :meth:`~TimeSeries.coherence` of one\n`TimeSeries` with respect to the other, using an 2-second Fourier\ntransform length, with a 1-second (50%) overlap:\n\n"
      ]
    },
    {
      "cell_type": "code",
      "execution_count": null,
      "metadata": {
        "collapsed": false
      },
      "outputs": [],
      "source": [
        "coh = darm.coherence(acc, fftlength=2, overlap=1)"
      ]
    },
    {
      "cell_type": "markdown",
      "metadata": {},
      "source": [
        "## Visualisation\nFinally, we can :meth:`~gwpy.frequencyseries.FrequencySeries.plot` the\nresulting data:\n\n"
      ]
    },
    {
      "cell_type": "code",
      "execution_count": null,
      "metadata": {
        "collapsed": false
      },
      "outputs": [],
      "source": [
        "plot = coh.plot(\n    xlabel=\"Frequency [Hz]\",\n    xscale=\"log\",\n    ylabel=\"Coherence\",\n    yscale=\"linear\",\n    ylim=(0, 1),\n)\nplot.show()"
      ]
    },
    {
      "cell_type": "markdown",
      "metadata": {},
      "source": [
        "We can clearly see the correlation between the periscope motion and the\ndifferential-arm length servo control loop error signal between 100 Hz\nand 1000 Hz. Such physical couplings can interfere, mask, or even mimic\na gravitational wave signal inferred from the differential arm\nlength motion.\n\n"
      ]
    }
  ],
  "metadata": {
    "kernelspec": {
      "display_name": "Python 3",
      "language": "python",
      "name": "python3"
    },
    "language_info": {
      "codemirror_mode": {
        "name": "ipython",
        "version": 3
      },
      "file_extension": ".py",
      "mimetype": "text/x-python",
      "name": "python",
      "nbconvert_exporter": "python",
      "pygments_lexer": "ipython3",
      "version": "3.11.12"
    }
  },
  "nbformat": 4,
  "nbformat_minor": 0
}