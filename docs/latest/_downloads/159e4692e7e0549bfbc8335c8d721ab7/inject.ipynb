{
  "cells": [
    {
      "cell_type": "markdown",
      "metadata": {},
      "source": [
        "\n.. sectionauthor:: Alex Urban <alexander.urban@ligo.org>\n.. currentmodule:: gwpy.timeseries\n\n# Inject a known signal into a `TimeSeries`\n\nIt can often be useful to add some known signal to an inherently random\nor noisy timeseries. For example, one might want to examine what\nwould happen if a binary black hole merger signal occured at or near\nthe time of a glitch. In LIGO data analysis, this procedure is referred\nto as an *injection*.\n\nIn the example below, we will create a stream of random, white Gaussian\nnoise, then inject a simulation of GW150914 into it at a known time.\n"
      ]
    },
    {
      "cell_type": "markdown",
      "metadata": {},
      "source": [
        "First, we prepare one second of Gaussian noise:\n\n"
      ]
    },
    {
      "cell_type": "code",
      "execution_count": null,
      "metadata": {
        "collapsed": false
      },
      "outputs": [],
      "source": [
        "from numpy import random\nfrom gwpy.timeseries import TimeSeries\nnoise = TimeSeries(random.normal(scale=.1, size=16384), sample_rate=16384)"
      ]
    },
    {
      "cell_type": "markdown",
      "metadata": {},
      "source": [
        "Then we can download a simulation of the GW150914 signal from GWOSC:\n\n"
      ]
    },
    {
      "cell_type": "code",
      "execution_count": null,
      "metadata": {
        "collapsed": false
      },
      "outputs": [],
      "source": [
        "url = \"https://gwosc.org/s/events/GW150914/P150914/fig2-unfiltered-waveform-H.txt\"\nsignal = TimeSeries.read(url, format=\"txt\")\nsignal.t0 = .5  # make sure this intersects with noise time samples"
      ]
    },
    {
      "cell_type": "markdown",
      "metadata": {},
      "source": [
        "Note, since this simulation cuts off before a certain time, it is\nimportant to taper its ends to zero to avoid ringing artifacts.\nWe can accomplish this using the\n:meth:`~gwpy.timeseries.TimeSeries.taper` method.\n\n"
      ]
    },
    {
      "cell_type": "code",
      "execution_count": null,
      "metadata": {
        "collapsed": false
      },
      "outputs": [],
      "source": [
        "signal = signal.taper()"
      ]
    },
    {
      "cell_type": "markdown",
      "metadata": {},
      "source": [
        "Since the time samples overlap, we can inject this into our noise data\nusing :meth:`~gwpy.types.series.Series.inject`:\n\n"
      ]
    },
    {
      "cell_type": "code",
      "execution_count": null,
      "metadata": {
        "collapsed": false
      },
      "outputs": [],
      "source": [
        "data = noise.inject(signal)"
      ]
    },
    {
      "cell_type": "markdown",
      "metadata": {},
      "source": [
        "Finally, we can visualize the full process in the time domain:\n\n"
      ]
    },
    {
      "cell_type": "code",
      "execution_count": null,
      "metadata": {
        "collapsed": false
      },
      "outputs": [],
      "source": [
        "from gwpy.plot import Plot\nplot = Plot(noise, signal, data, separate=True, sharex=True, sharey=True)\nplot.gca().set_epoch(0)\nplot.show()"
      ]
    },
    {
      "cell_type": "markdown",
      "metadata": {},
      "source": [
        "We can clearly see that the loud GW150914-like signal has been layered\non top of Gaussian noise with the correct amplitude and phase evolution.\n\n"
      ]
    }
  ],
  "metadata": {
    "kernelspec": {
      "display_name": "Python 3",
      "language": "python",
      "name": "python3"
    },
    "language_info": {
      "codemirror_mode": {
        "name": "ipython",
        "version": 3
      },
      "file_extension": ".py",
      "mimetype": "text/x-python",
      "name": "python",
      "nbconvert_exporter": "python",
      "pygments_lexer": "ipython3",
      "version": "3.11.12"
    }
  },
  "nbformat": 4,
  "nbformat_minor": 0
}