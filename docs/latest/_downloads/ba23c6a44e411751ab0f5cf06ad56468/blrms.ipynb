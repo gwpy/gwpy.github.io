{
  "cells": [
    {
      "cell_type": "markdown",
      "metadata": {},
      "source": [
        "\n.. sectionauthor:: Duncan Macleod <duncan.macleod@ligo.org>\n.. currentmodule:: gwpy.timeseries\n\n# Comparing seismic trends between LIGO sites\n\nOn Jan 16 2020 there was a series of earthquakes, that\nshould have had an impact on LIGO operations, I'd like to find out.\n"
      ]
    },
    {
      "cell_type": "markdown",
      "metadata": {},
      "source": [
        "## Data access\nWe choose to look at the 0.03Hz-1Hz ground motion band-limited RMS channel\n(1-second average trends) for each interferometer.\nWe use a\n[format string](https://docs.python.org/3/tutorial/inputoutput.html#the-string-format-method)\nso we can substitute the interferometer prefix without duplicating the channel name:\n\n"
      ]
    },
    {
      "cell_type": "code",
      "execution_count": null,
      "metadata": {
        "collapsed": false
      },
      "outputs": [],
      "source": [
        "channel = \"{ifo}:ISI-GND_STS_ITMY_Z_BLRMS_30M_100M\"\nlhochan = channel.format(ifo=\"H1\")\nllochan = channel.format(ifo=\"L1\")"
      ]
    },
    {
      "cell_type": "markdown",
      "metadata": {},
      "source": [
        "To access the data, we can use :meth:`~TimeSeriesDict.get`, and give start and end\ndatetimes to fetch 6 hours of data for each interferometer:\n\n"
      ]
    },
    {
      "cell_type": "code",
      "execution_count": null,
      "metadata": {
        "collapsed": false
      },
      "outputs": [],
      "source": [
        "from gwpy.timeseries import TimeSeriesDict\ndata = TimeSeriesDict.get(\n    [lhochan, llochan],\n    \"Jan 16 2020 8:00\",\n    \"Jan 16 2020 14:00\",\n    host=\"nds.gwosc.org\",\n)"
      ]
    },
    {
      "cell_type": "markdown",
      "metadata": {},
      "source": [
        "## Visualisation\nNow that we have the data, we can easily `~TimeSeriesDict.plot` them:\n\n"
      ]
    },
    {
      "cell_type": "code",
      "execution_count": null,
      "metadata": {
        "collapsed": false
      },
      "outputs": [],
      "source": [
        "plot = data[lhochan].plot(\n    color=\"gwpy:ligo-hanford\",\n    label=\"LIGO-Hanford\",\n    yscale=\"log\",\n    ylabel=r\"$1-3$\\,Hz motion [nm/s]\",\n)\nax = plot.gca()\nax.plot(data[llochan], color=\"gwpy:ligo-livingston\", label=\"LIGO-Livingston\")\nax.set_title(\"Impact of earthquakes on LIGO\")\nax.legend()\nplot.show()"
      ]
    },
    {
      "cell_type": "markdown",
      "metadata": {},
      "source": [
        "As we can see, the earthquake had a huge impact on the LIGO observatories,\nseverly impairing operations for several hours.\n\n"
      ]
    }
  ],
  "metadata": {
    "kernelspec": {
      "display_name": "Python 3",
      "language": "python",
      "name": "python3"
    },
    "language_info": {
      "codemirror_mode": {
        "name": "ipython",
        "version": 3
      },
      "file_extension": ".py",
      "mimetype": "text/x-python",
      "name": "python",
      "nbconvert_exporter": "python",
      "pygments_lexer": "ipython3",
      "version": "3.11.12"
    }
  },
  "nbformat": 4,
  "nbformat_minor": 0
}