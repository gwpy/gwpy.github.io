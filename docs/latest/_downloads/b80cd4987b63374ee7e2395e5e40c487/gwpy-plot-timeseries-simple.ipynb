{
  "cells": [
    {
      "cell_type": "markdown",
      "metadata": {},
      "source": [
        "\n# Simple timeseries\n\nThis example shows the strain timeseries for the LIGO-Hanford detector around GW150914.\n\n```shell\ngwpy-plot timeseries \\\n    --gwosc \\\n    --ifo H1 \\\n    --start 1126259457 \\\n    --suptitle 'LIGO-Hanford strain around GW150914' \\\n    --interactive\n```\n"
      ]
    },
    {
      "cell_type": "markdown",
      "metadata": {},
      "source": [
        "The same command can be executed directly in Python as:\n\n"
      ]
    },
    {
      "cell_type": "code",
      "execution_count": null,
      "metadata": {
        "collapsed": false
      },
      "outputs": [],
      "source": [
        "from gwpy.cli.gwpy_plot import main\nmain([\n    'timeseries',\n    '--gwosc',\n    '--ifo', 'H1',\n    '--start', '1126259457',\n    '--suptitle', 'LIGO-Hanford strain around GW150914',\n    '--interactive',\n])"
      ]
    }
  ],
  "metadata": {
    "kernelspec": {
      "display_name": "Python 3",
      "language": "python",
      "name": "python3"
    },
    "language_info": {
      "codemirror_mode": {
        "name": "ipython",
        "version": 3
      },
      "file_extension": ".py",
      "mimetype": "text/x-python",
      "name": "python",
      "nbconvert_exporter": "python",
      "pygments_lexer": "ipython3",
      "version": "3.11.12"
    }
  },
  "nbformat": 4,
  "nbformat_minor": 0
}