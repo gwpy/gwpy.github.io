{
  "cells": [
    {
      "cell_type": "markdown",
      "metadata": {},
      "source": [
        "\n.. sectionauthor:: Duncan Macleod <duncan.macleod@ligo.org>\n.. currentmodule:: gwpy.timeseries\n\n# Plotting a spectrogram of all open data for many hours\n\nIn order to study interferometer performance, it is common in LIGO to plot\nall of the data for a day, in order to determine trends, and see data-quality\nissues.\n\nThis is done for the LIGO-Virgo detector network, with\n[up-to-date plots](https://gwosc.org/detector_status/)_\navailable from |GWOSC|.\n\nThis example demonstrates how to download data segments from GWOSC, then\nuse those to build a multi-hour spectrogram plot of LIGO-Livingston strain\ndata.\n"
      ]
    },
    {
      "cell_type": "markdown",
      "metadata": {},
      "source": [
        ".. currentmodule:: gwpy.segments\n\n## Getting the segments\n\nFirst, we need to fetch the Open Data timeline segments from GWOSC.\nTo do that we can call the :meth:`DataQualityFlag.fetch_open_data` method\nusing ``'H1_DATA'`` as the flag (for an explanation of what this means,\nread up on [The S6 Data Release](https://gwosc.org/S6/)_).\n\n"
      ]
    },
    {
      "cell_type": "code",
      "execution_count": null,
      "metadata": {
        "collapsed": false
      },
      "outputs": [],
      "source": [
        "from gwpy.segments import DataQualityFlag\nl1segs = DataQualityFlag.fetch_open_data(\n    \"L1_DATA\",\n    \"Aug 17 2017 08:00\",\n    \"Aug 17 2017 16:00\",\n)"
      ]
    },
    {
      "cell_type": "markdown",
      "metadata": {},
      "source": [
        "For sanity, lets plot these segments:\n\n"
      ]
    },
    {
      "cell_type": "code",
      "execution_count": null,
      "metadata": {
        "collapsed": false
      },
      "outputs": [],
      "source": [
        "splot = l1segs.plot(\n    figsize=[12, 3],\n    epoch=\"August 17 2017\",\n)\nsplot.show()\nsplot.close()  # hide"
      ]
    },
    {
      "cell_type": "markdown",
      "metadata": {},
      "source": [
        "We see that the LIGO Hanford Observatory detector was operating for the\nmajority of the day, with a few outages of ~30 minutes or so.\n\n"
      ]
    },
    {
      "cell_type": "markdown",
      "metadata": {},
      "source": [
        "We can use the :func:`abs` function to display the total amount of time\nspent taking data:\n\n"
      ]
    },
    {
      "cell_type": "code",
      "execution_count": null,
      "metadata": {
        "collapsed": false
      },
      "outputs": [],
      "source": [
        "print(abs(l1segs.active))"
      ]
    },
    {
      "cell_type": "markdown",
      "metadata": {},
      "source": [
        ".. currentmodule:: gwpy.timeseries\n\n## Working with strain data\n\nNow, we can loop through the active segments of ``'L1_DATA'`` and fetch the\nstrain `TimeSeries` for each segment, calculating a\n:class:`~gwpy.spectrogram.Spectrogram` for each segment.\n\n"
      ]
    },
    {
      "cell_type": "code",
      "execution_count": null,
      "metadata": {
        "collapsed": false
      },
      "outputs": [],
      "source": [
        "from gwpy.timeseries import TimeSeries\nspectrograms = []\nfor start, end in l1segs.active:\n    l1strain = TimeSeries.fetch_open_data(\n        \"L1\",\n        start,\n        end,\n        verbose=True,\n    )\n    specgram = l1strain.spectrogram(30, fftlength=4) ** (1/2.)\n    spectrograms.append(specgram)"
      ]
    },
    {
      "cell_type": "markdown",
      "metadata": {},
      "source": [
        "Finally, we can build a :meth:`~gwpy.spectrogram.Spectrogram.plot`:\n\n"
      ]
    },
    {
      "cell_type": "code",
      "execution_count": null,
      "metadata": {
        "collapsed": false
      },
      "outputs": [],
      "source": [
        "# Create an empty plot with a single set of Axes\nfrom gwpy.plot import Plot\nplot = Plot(figsize=(12, 6))\nax = plot.gca()\n# add each spectrogram to the Axes\nfor specgram in spectrograms:\n    ax.imshow(specgram)\n# finalise the plot metadata\nax.set_xscale(\"auto-gps\", epoch=\"Aug 17 2017\")\nax.set_ylim(20, 2000)\nax.set_yscale(\"log\")\nax.set_ylabel(\"Frequency [Hz]\")\nax.set_title(\"LIGO-Livingston strain data\")\nax.colorbar(\n    cmap=\"viridis\",\n    norm=\"log\",\n    clim=(5e-24, 1e-21),\n    label=r\"Strain noise [1/$\\sqrt{\\mathrm{Hz}}$]\",\n)\n# add the segments as a 'state' indicator along the bottom\nplot.add_segments_bar(l1segs)\nplot.show()"
      ]
    }
  ],
  "metadata": {
    "kernelspec": {
      "display_name": "Python 3",
      "language": "python",
      "name": "python3"
    },
    "language_info": {
      "codemirror_mode": {
        "name": "ipython",
        "version": 3
      },
      "file_extension": ".py",
      "mimetype": "text/x-python",
      "name": "python",
      "nbconvert_exporter": "python",
      "pygments_lexer": "ipython3",
      "version": "3.11.12"
    }
  },
  "nbformat": 4,
  "nbformat_minor": 0
}