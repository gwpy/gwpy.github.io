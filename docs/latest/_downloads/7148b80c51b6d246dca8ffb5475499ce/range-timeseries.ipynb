{
  "cells": [
    {
      "cell_type": "markdown",
      "metadata": {},
      "source": [
        "\n.. sectionauthor:: Duncan Macleod <duncan.macleod@ligo.org>\n.. currentmodule:: gwpy.timeseries\n\n# Generating an inspiral range timeseries\n\nOne standard figure-of-merit for the sensitivity of a gravitational-wave\ndetector is the distance to which a binary neutron star (BNS) inspiral\nwith two 1.4 solar mass components would be detected with a signal-to-noise\nratio (SNR) of 8. We can estimate this using\n:func:`gwpy.astro.range_timeseries` directly from the strain readout for\na detector.\n"
      ]
    },
    {
      "cell_type": "markdown",
      "metadata": {},
      "source": [
        "## Data access\nFirst, we need to load some data. We can `fetch` the\n[public data](https://gwosc.org/catalog/)_\naround the GW170817 BNS merger:\n\n"
      ]
    },
    {
      "cell_type": "code",
      "execution_count": null,
      "metadata": {
        "collapsed": false
      },
      "outputs": [],
      "source": [
        "from gwpy.timeseries import TimeSeries\nh1 = TimeSeries.fetch_open_data(\"H1\", 1187006834, 1187010930)\nl1 = TimeSeries.fetch_open_data(\"L1\", 1187006834, 1187010930)"
      ]
    },
    {
      "cell_type": "markdown",
      "metadata": {},
      "source": [
        "## Range estimation\nThen, we can measure the inspiral range directly, at 30 second granularity\nwith a 4-second FFT length starting at 10 Hz:\n\n"
      ]
    },
    {
      "cell_type": "code",
      "execution_count": null,
      "metadata": {
        "collapsed": false
      },
      "outputs": [],
      "source": [
        "from gwpy.astro import range_timeseries\nh1range = range_timeseries(h1, 30, fftlength=4, fmin=10)\nl1range = range_timeseries(l1, 30, fftlength=4, fmin=10)"
      ]
    },
    {
      "cell_type": "markdown",
      "metadata": {},
      "source": [
        "## Visualisation\nWe can now plot these trends to see the variation in LIGO\nsensitivity over an hour or so surrounding GW170817:\n\n"
      ]
    },
    {
      "cell_type": "code",
      "execution_count": null,
      "metadata": {
        "collapsed": false
      },
      "outputs": [],
      "source": [
        "plot = h1range.plot(\n    label=\"LIGO-Hanford\",\n    color=\"gwpy:ligo-hanford\",\n    figsize=(12, 5),\n)\nax = plot.gca()\nax.plot(l1range, label=\"LIGO-Livingston\", color=\"gwpy:ligo-livingston\")\nax.set_ylabel(\"Angle-averaged sensitive distance [Mpc]\")\nax.set_title(\"LIGO sensitivity to BNS around GW170817\")\nax.set_epoch(1187008882)  # <- set 0 on plot to GW170817\nax.legend()\nplot.show()"
      ]
    },
    {
      "cell_type": "markdown",
      "metadata": {},
      "source": [
        "Note, the extreme dip in LIGO-Livingston's sensitivity near GW170817\nis caused by a loud, transient noise event, see [Phys. Rev. Lett.\nvol. 119, p. 161101](http://doi.org/10.1103/PhysRevLett.119.161101)\nfor more information.\n\n"
      ]
    }
  ],
  "metadata": {
    "kernelspec": {
      "display_name": "Python 3",
      "language": "python",
      "name": "python3"
    },
    "language_info": {
      "codemirror_mode": {
        "name": "ipython",
        "version": 3
      },
      "file_extension": ".py",
      "mimetype": "text/x-python",
      "name": "python",
      "nbconvert_exporter": "python",
      "pygments_lexer": "ipython3",
      "version": "3.11.13"
    }
  },
  "nbformat": 4,
  "nbformat_minor": 0
}