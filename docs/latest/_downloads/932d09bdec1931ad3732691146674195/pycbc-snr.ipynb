{
  "cells": [
    {
      "cell_type": "markdown",
      "metadata": {},
      "source": [
        "\n.. sectionauthor:: Duncan Macleod <duncan.macleod@ligo.org>\n.. currentmodule:: gwpy.timeseries\n\n# Calculating the SNR associated with an astrophysical signal model\n\nThe example `sphx_glr_examples_signal_gw150914.py` showed us we can visually\nextract a signal from the noise using basic signal-processing techniques.\n\nHowever, an actual astrophysical search algorithm detects signals by\ncalculating the signal-to-noise ratio (SNR) of data for each in a large bank\nof signal models, known as templates.\n\nUsing |pycbc|_ (the actual search code), we can do that.\n"
      ]
    },
    {
      "cell_type": "markdown",
      "metadata": {},
      "source": [
        "## Data access and conditioning\nFirst we fetch some of the public data from |GWOSC|_:\n\n"
      ]
    },
    {
      "cell_type": "code",
      "execution_count": null,
      "metadata": {
        "collapsed": false
      },
      "outputs": [],
      "source": [
        "from gwpy.timeseries import TimeSeries\ndata = TimeSeries.fetch_open_data(\"H1\", 1126259446, 1126259478)"
      ]
    },
    {
      "cell_type": "markdown",
      "metadata": {},
      "source": [
        "and condition it by applying a highpass filter at 15 Hz\n\n"
      ]
    },
    {
      "cell_type": "code",
      "execution_count": null,
      "metadata": {
        "collapsed": false
      },
      "outputs": [],
      "source": [
        "high = data.highpass(15)"
      ]
    },
    {
      "cell_type": "markdown",
      "metadata": {},
      "source": [
        "This is important to remove noise at lower frequencies that isn't\naccurately calibrated, and swamps smaller noises at higher frequencies.\n\nFor this example, we want to calculate the SNR over a 4 second segment, so\nwe calculate a Power Spectral Density with a 4 second FFT length (using all\nof the data), then :meth:`~TimeSeries.crop` the data:\n\n"
      ]
    },
    {
      "cell_type": "code",
      "execution_count": null,
      "metadata": {
        "collapsed": false
      },
      "outputs": [],
      "source": [
        "psd = high.psd(4, 2)\nzoom = high.crop(1126259460, 1126259464)"
      ]
    },
    {
      "cell_type": "markdown",
      "metadata": {},
      "source": [
        "## Generating a signal model\nIn order to calculate signal-to-noise ratio, we need a signal model\nagainst which to compare our data.\nFor this we import :func:`pycbc.waveform.get_fd_waveform\n<pycbc.waveform.waveform.get_fd_waveform>` and generate a template as a\n`pycbc.types.FrequencySeries <pycbc.types.frequencyseries.FrequencySeries>`:\n\n"
      ]
    },
    {
      "cell_type": "code",
      "execution_count": null,
      "metadata": {
        "collapsed": false
      },
      "outputs": [],
      "source": [
        "from pycbc.waveform import get_fd_waveform\nhp, _ = get_fd_waveform(\n    approximant=\"IMRPhenomD\",\n    mass1=40,\n    mass2=32,\n    f_lower=20,\n    f_final=2048,\n    delta_f=psd.df.value,\n)"
      ]
    },
    {
      "cell_type": "markdown",
      "metadata": {},
      "source": [
        "## Calculating SNR\nAt this point we are ready to calculate the SNR, so we import the\n:func:`pycbc.filter.matched_filter\n<pycbc.filter.matchedfilter.matched_filter>` method, and pass it\nour template, the data, and the PSD:\n\n"
      ]
    },
    {
      "cell_type": "code",
      "execution_count": null,
      "metadata": {
        "collapsed": false
      },
      "outputs": [],
      "source": [
        "from pycbc.filter import matched_filter\nsnr = matched_filter(\n    hp,\n    zoom.to_pycbc(),\n    psd=psd.to_pycbc(),\n    low_frequency_cutoff=15,\n)\nsnrts = TimeSeries.from_pycbc(snr).abs()"
      ]
    },
    {
      "cell_type": "markdown",
      "metadata": {},
      "source": [
        ".. tip::\n\n   Here we have used the :meth:`~TimeSeries.to_pycbc` methods of the\n   `~gwpy.timeseries.TimeSeries` and `~gwpy.frequencyseries.FrequencySeries`\n   objects to convert from GWpy objects to something that PyCBC functions\n   can understand, and then used the :meth:`~TimeSeries.from_pycbc` method\n   to convert back to a GWpy object.\n\n## Visualisation\nWe can plot the SNR `TimeSeries` around the region of interest:\n\n"
      ]
    },
    {
      "cell_type": "code",
      "execution_count": null,
      "metadata": {
        "collapsed": false
      },
      "outputs": [],
      "source": [
        "plot = snrts.plot()\nax = plot.gca()\nax.set_xlim(1126259461, 1126259463)\nax.set_epoch(1126259462.427)\nax.set_ylabel(\"Signal-to-noise ratio (SNR)\")\nax.set_title(\"LIGO-Hanford signal-correlation for GW150914\")\nplot.show()"
      ]
    },
    {
      "cell_type": "markdown",
      "metadata": {},
      "source": [
        "We can clearly see a large spike (above 17!) at the time of the\n|GW150914|_ signal!\nThis is, in principle, how the full, blind, CBC search is performed, using\nall of the available data, and a bank of tens of thousand of signal models.\n\n"
      ]
    }
  ],
  "metadata": {
    "kernelspec": {
      "display_name": "Python 3",
      "language": "python",
      "name": "python3"
    },
    "language_info": {
      "codemirror_mode": {
        "name": "ipython",
        "version": 3
      },
      "file_extension": ".py",
      "mimetype": "text/x-python",
      "name": "python",
      "nbconvert_exporter": "python",
      "pygments_lexer": "ipython3",
      "version": "3.11.12"
    }
  },
  "nbformat": 4,
  "nbformat_minor": 0
}